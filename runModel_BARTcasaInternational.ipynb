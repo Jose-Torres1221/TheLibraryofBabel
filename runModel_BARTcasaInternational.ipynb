{
  "cells": [
    {
      "cell_type": "code",
      "source": [
        "import random\n",
        "import torch\n",
        "import numpy as np\n",
        "\n",
        "def set_seed(seed_value=42):\n",
        "    \"\"\"Set seed for reproducibility for PyTorch and NumPy.\n",
        "    Args:\n",
        "        seed_value (int): The seed value to set for random number generators.\n",
        "    \"\"\"\n",
        "    random.seed(seed_value)\n",
        "    np.random.seed(seed_value)\n",
        "    torch.manual_seed(seed_value)\n",
        "    torch.cuda.manual_seed_all(seed_value)\n",
        "\n",
        "    # Additional steps for deterministic behavior\n",
        "    torch.backends.cudnn.deterministic = True\n",
        "    torch.backends.cudnn.benchmark = False\n",
        "\n",
        "# Set the seed\n",
        "set_seed(42)  # You can replace 42 with any other seed value of your choice"
      ],
      "metadata": {
        "id": "4MaijIVRrFh-"
      },
      "id": "4MaijIVRrFh-",
      "execution_count": null,
      "outputs": []
    },
    {
      "cell_type": "code",
      "source": [
        "#Load model directly\n",
        "from transformers import AutoTokenizer, AutoModelForSeq2SeqLM\n",
        "\n",
        "model_plain = AutoModelForSeq2SeqLM.from_pretrained(\"facebook/bart-large-cnn\")\n",
        "tokenizer_plain = AutoTokenizer.from_pretrained(\"facebook/bart-large-cnn\")\n",
        "\n",
        "model_path = \"./fine_tuned_BART_summarization\"\n",
        "model_fineTune = AutoModelForSeq2SeqLM.from_pretrained(model_path)\n",
        "tokenizer_fineTune = AutoTokenizer.from_pretrained(model_path)\n",
        "\n",
        "device = torch.device(\"cuda\" if torch.cuda.is_available() else \"cpu\")\n",
        "\n",
        "model_plain.to(device)\n",
        "model_fineTune.to(device)\n",
        "\n",
        "tokenizer_plain.pad_token = \"[PAD]\"  # Set a unique padding token\n",
        "tokenizer_plain.eos_token = \"[EOS]\"  # Set an end-of-sequence token\n",
        "\n",
        "tokenizer_fineTune.pad_token = \"[PAD]\"  # Set a unique padding token\n",
        "tokenizer_fineTune.eos_token = \"[EOS]\"  # Set an end-of-sequence token\n",
        "\n",
        "\n"
      ],
      "metadata": {
        "colab": {
          "base_uri": "https://localhost:8080/"
        },
        "id": "2FptfqHI4Js9",
        "outputId": "720351b9-c2ac-46a5-b067-e3c585260fc2"
      },
      "id": "2FptfqHI4Js9",
      "execution_count": null,
      "outputs": [
        {
          "output_type": "stream",
          "name": "stderr",
          "text": [
            "/usr/local/lib/python3.10/dist-packages/transformers/models/bart/configuration_bart.py:176: UserWarning: Please make sure the config includes `forced_bos_token_id=0` in future versions. The config can simply be saved and uploaded again to be fixed.\n",
            "  warnings.warn(\n"
          ]
        }
      ]
    },
    {
      "cell_type": "code",
      "source": [
        "def clean_generated_text(output):\n",
        "    cleaned_output = \" \".join(output.split())\n",
        "    return cleaned_output\n",
        "\n",
        "def get_summary_from_llm(rawText, model, tokenizer):\n",
        "    # Define the prompt\n",
        "    prompt = f\"\"\"Summarize the following research abstract. Focus on main contributions.\\n\\n\n",
        "   {rawText} \\n\\n\n",
        "    Summary: \"\"\"\n",
        "\n",
        "    # Tokenize the input\n",
        "    inputs = tokenizer(\n",
        "        prompt,\n",
        "        add_special_tokens=True,  # Ensure model-specific tokens are added\n",
        "        return_tensors=\"pt\",\n",
        "        padding=False,  # Adjust if needed\n",
        "        truncation=True,\n",
        "        return_attention_mask=True\n",
        "    )\n",
        "\n",
        "    # Move tensors to the model's device\n",
        "    input_ids = inputs['input_ids'].to(model.device)\n",
        "    attention_mask = inputs['attention_mask'].to(model.device)\n",
        "\n",
        "    # Generate output\n",
        "    output_ids = model.generate(\n",
        "        input_ids=input_ids,\n",
        "        attention_mask=attention_mask,\n",
        "        max_new_tokens=300,\n",
        "        min_new_tokens=10,\n",
        "        temperature=0.1,\n",
        "    )\n",
        "\n",
        "    # Decode the generated output\n",
        "    generated_text = tokenizer.decode(output_ids[0], skip_special_tokens=True)\n",
        "\n",
        "    # Remove the prompt portion from the generated text\n",
        "    output_cleaned = generated_text.replace(prompt, \"\").strip()\n",
        "\n",
        "    print(output_cleaned)\n",
        "    return output_cleaned\n"
      ],
      "metadata": {
        "id": "4kY85UqZsOVc"
      },
      "id": "4kY85UqZsOVc",
      "execution_count": null,
      "outputs": []
    },
    {
      "cell_type": "code",
      "source": [
        "import pandas as pd\n",
        "esAbstract = pd.read_csv('csvFiles/papers_EStoEN.csv')['abstract_translated']\n",
        "jpAbstract = pd.read_csv('csvFiles/papers_JPtoEN.csv')['abstract_translated']"
      ],
      "metadata": {
        "id": "7GxAEdfezVE9"
      },
      "id": "7GxAEdfezVE9",
      "execution_count": null,
      "outputs": []
    },
    {
      "cell_type": "code",
      "source": [
        "BART_summaryList_ES = []\n",
        "for abstract in esAbstract:\n",
        "  BART_summaryList_ES.append(get_summary_from_llm(abstract, model_plain, tokenizer_plain))\n",
        "\n",
        "BART_summaryList_JP = []\n",
        "for abstract in jpAbstract:\n",
        "  BART_summaryList_JP.append(get_summary_from_llm(abstract, model_plain, tokenizer_plain))\n"
      ],
      "metadata": {
        "colab": {
          "base_uri": "https://localhost:8080/"
        },
        "id": "-Eutcq4P76FW",
        "outputId": "b7459936-a105-4fe7-bb5d-4325693dd4a7"
      },
      "id": "-Eutcq4P76FW",
      "execution_count": null,
      "outputs": [
        {
          "output_type": "stream",
          "name": "stderr",
          "text": [
            "Asking to truncate to max_length but no maximum length is provided and the model has no predefined maximum length. Default to no truncation.\n",
            "/usr/local/lib/python3.10/dist-packages/transformers/generation/configuration_utils.py:590: UserWarning: `do_sample` is set to `False`. However, `temperature` is set to `0.1` -- this flag is only used in sample-based generation modes. You should set `do_sample=True` or unset `temperature`.\n",
            "  warnings.warn(\n"
          ]
        },
        {
          "output_type": "stream",
          "name": "stdout",
          "text": [
            "The paper presents a case of urinary balantidiasis in a patient having chronic obstructive pulmonary disease. The results showed an average reduction of 54% in the new planned routes, compared to a sequential route.\n",
            "The paper presents a case of urinary balantidiasis in a patient having chronic obstructive pulmonary disease who was on steroids for a long time. The computational program for the modeling of the fault by overturning in two dimensions (2D), called volteoLab, allows to interpret the fault mode type overturning.\n",
            "The paper presents a case of urinary balantidiasis in a patient having chronic obstructive pulmonary disease who was on steroids for a long time. The study deals with the identification of the development of spatial visual skills in tasks of representation of revolutionary solids.\n",
            "The paper presents a case of urinary balantidiasis in a patient having chronic obstructive pulmonary disease who was on steroids for a long time. This article presents a description of decision trees to determine whether a room is occupied.\n",
            "The paper presents a case of urinary balantidiasis in a patient having chronic obstructive pulmonary disease who was on steroids for a long time. In this article, the Designing Thinking technique will be used to solve and evaluate the problem of selecting quality metrics for a software.\n",
            "The paper presents a case of urinary balantidiasis in a patient having chronic obstructive pulmonary disease who was on steroids for a long time. Playing a board game like chess has many benefits, such as cognitive and emotional development in children, and even the prevention of Alzheimer's disease in older adults. This article presents the development of an alpha prototype of a chess board whose moves are controlled by voice through a mobile application.\n",
            "The paper presents a case of urinary balantidiasis in a patient having chronic obstructive pulmonary disease. The 3D simulation bed comprises a 1 km2 section of physical objects such as buildings and vegetation. The results show an average match of 92% and 95% respectively in packets received between simulated data and those collected with the RIS.\n",
            "Artificial intelligence (AI) promises a significant transformation of health care in all medical areas. Future of medical specialties will depend heavily on human interaction and creativity. AI will offer patients security, autonomy and possibility of timely medical care in hard-to-reach areas.\n",
            "The paper presents a case of urinary balantidiasis in a patient having chronic obstructive pulmonary disease (copd) who was on steroids for a long time. The data processing for the wine rating was done using the Phyton programming language.\n",
            "The paper presents a case of urinary balantidiasis in a patient having chronic obstructive pulmonary disease (copd) who was on steroids for a long time.\n",
            "Tactile care was administered to post-operative patients in the intensive care unit (ICU) wearing ventilators. Levels of cortisol and oxytocin in the blood were lower than the rest of the subjects. The study found that tactile care can be safe.\n",
            "The paper presents a case of urinary balantidiasis in a patient having chronic obstructive pulmonary disease who was on steroids for a long time. The prednisone-based treatment has been shown to reduce the risk of constipation, but it has not worsened.\n",
            "Balantidiasis is a rare zoonotic disease in humans. Many of them appear in the gallbladder, and it's very rare for them to occur in the duodenum.\n",
            "The paper presents a case of urinary balantidiasis in a patient having chronic obstructive pulmonary disease who was on steroids for a long time. In osteoporosis (MPN), the number of platelets increases, and hypoglycemia is known. This case was accompanied by a decrease in platelet count.\n",
            "The company has developed a rapid, simple, non-toxic, ammonia-based nitrogen measurement method using phenol, a harmful substance. To prevent interference with measurements by metal ions in the sample, ethylene diamine tetrahydrate was added.\n",
            "The paper presents a case of urinary balantidiasis in a patient having chronic obstructive pulmonary disease. The patient has no symptoms of bowel or urinary involvement.\n",
            "The paper presents a case of urinary balantidiasis in a patient having chronic obstructive pulmonary disease (copd) who was on steroids for a long time.\n",
            "The paper presents a case of urinary balantidiasis in a patient having chronic obstructive pulmonary disease who was on steroids for a long time. In 2023, the nasal eye and general symptoms of the Sugi-Hinoki period were examined on the Visual Analysis Scale (VAS) Strong cases of consciousness symptoms in the nasal phase before SLIT were only 0.9-3.6%.\n",
            "The advances in drug therapy since 2010 have made a breakthrough in the treatment of melanoma. The transition from the era of cell-killing anticancer drugs to molecular targeted therapies and immunotherapies has led to the well-known combination of BRAF inhibitors and MEK inhibitors.\n",
            "The paper presents a case of urinary balantidiasis in a patient having chronic obstructive pulmonary disease (copd) The patient has no symptoms of bowel or urinary involvement.\n"
          ]
        }
      ]
    },
    {
      "cell_type": "code",
      "source": [
        "ft_BART_summaryList_ES = []\n",
        "for abstract in esAbstract:\n",
        "  ft_BART_summaryList_ES.append(get_summary_from_llm(abstract, model_fineTune, tokenizer_fineTune))\n",
        "\n",
        "ft_BART_summaryList_JP = []\n",
        "for abstract in jpAbstract:\n",
        "  ft_BART_summaryList_JP.append(get_summary_from_llm(abstract, model_fineTune, tokenizer_fineTune))\n"
      ],
      "metadata": {
        "colab": {
          "base_uri": "https://localhost:8080/"
        },
        "id": "fwpt0n8k5CLV",
        "outputId": "ab6d7351-3ff5-4be1-f8c3-2e92a2bf50fe"
      },
      "id": "fwpt0n8k5CLV",
      "execution_count": null,
      "outputs": [
        {
          "output_type": "stream",
          "name": "stderr",
          "text": [
            "Asking to truncate to max_length but no maximum length is provided and the model has no predefined maximum length. Default to no truncation.\n",
            "/usr/local/lib/python3.10/dist-packages/transformers/generation/utils.py:1493: UserWarning: You have modified the pretrained model configuration to control generation. This is a deprecated strategy to control generation and will be removed in v5. Please use and modify the model generation configuration (see https://huggingface.co/docs/transformers/generation_strategies#default-text-generation-configuration )\n",
            "  warnings.warn(\n"
          ]
        },
        {
          "output_type": "stream",
          "name": "stdout",
          "text": [
            "of the study, the researchers developed a genetic algorithm based on an ant colony to generate, theoretically, the verification routes for the monitoring and early detection of forest fires in the State of Mexico by means of unmanned aerial devices.\n",
            "iaiglia coli is the causative ciliated protozoan protozoan protozoan disease. The study describes a new approach to model the fault by overturning in two dimensions (2D)\n",
            "ine-related disease in a study on the development of spatial visual skills in students studying integral calculus. The study examined the development of spatial visual skills in the representation of revolutionary solids and conversion between registers to calculate their volume.\n",
            "ine decision trees to determine whether a room is occupied or not. This article demonstrates empirically that it is possible to determine whether a room is occupied or not, using the variables temperature, humidity, luminosity, luminosity, CO2 level and humidity radius.\n",
            "ine-disease is a rare zoonotic disease in humans. The paper uses Design Thinking technique to solve the problem of selecting quality metrics for software.\n",
            "for the study. The paper presents the development of an alpha prototype of a chess board whose moves are controlled by voice through a mobile application and whose opponent is located remotely.\n",
            "sensor networks in urban areas are complicated, and simulators can be used to simulate them. The paper presents a 3D virtual environment for the simulation of wireless sensor networks in the city of Torreón, using the discrete event simulator OMNeT++, with tools from INET framework.\n",
            "ine-related disease in a rare zoonotic disease in humans. The paper argues that AI could represent the \"Gutenberg moment\" for medicine.\n",
            "ine-based wine rating system. The paper describes the process followed, where the Phyton programming language was used for the analysis of the dataset data, the Google Colab server was used to run the algorithms in the cloud.\n",
            "ine-based decision tree can detect fraudulent websites. The paper uses Decision Trees to detect fraudulent websites using Python language.\n",
            "usia coli is the causative ciliated protozoan protozoan protozoan of the rare zoonotic disease balantidiasis. The study found that tactile care can be safe during the post-operative injury period, relieves subjective pain, anxiety, and has a relaxing effect and leads to stress relief.\n",
            "ia. The study is based on the findings of a study of multiple sclerosis.\n",
            "us. The paper describes a case of adenomyomatous hyperplasia (AMH, a rare condition that is a rare zoonosis.\n",
            "osis (MPN) in osteoporosis (MPN) In MPN, the number of platelets increases, and hypoglycemia. In MPN (MPN, the number of platelets, the number of platelets increases, the number of platelets, and hypoglycemia.\n",
            "ine diamine tetrahydrate (EDTA) was added to prevent interference with measurements by metal ions in the sample. The company has developed a rapid, simple, non-toxic ammonia-based nitrogen measurement method using phenol, a harmful substance, and continuous flow analysis (CFA) analysis method.\n",
            "ine-related dystrophy. The paper reports a rare case of rare case of parathyroid dystrophy.\n",
            "us is the causative ciliated protozoan protozoan protozoan. The study discusses the treatment of a basal bone fracture.\n",
            "us liridiasis is a rare zoonotic disease in humans. The paper reports a case of this rare zoonotic disease in a patient with chronic obstructive pulmonary disease (copd)\n",
            "for melanoma.\n",
            "us disease in a patient with chronic obstructive pulmonary disease (copd) who was on steroids for a long time. The second round of steroid pulse therapy resulted in an improvement in pulmonary shadow and breathing difficulties.\n"
          ]
        }
      ]
    },
    {
      "cell_type": "code",
      "source": [
        "resultDictES = {\n",
        "    \"BART\": BART_summaryList_ES,\n",
        "    \"BART_ft\":ft_BART_summaryList_ES\n",
        "}\n",
        "\n",
        "resultDictJP = {\n",
        "    \"BART\": BART_summaryList_JP,\n",
        "    \"BART_ft\":ft_BART_summaryList_JP\n",
        "}\n",
        "\n",
        "pd.DataFrame(resultDictES).to_csv(\"summarization_BART_ES.csv\")\n",
        "pd.DataFrame(resultDictJP).to_csv(\"summarization_BART_JP.csv\")"
      ],
      "metadata": {
        "id": "si1tUnEa87PR"
      },
      "id": "si1tUnEa87PR",
      "execution_count": null,
      "outputs": []
    }
  ],
  "metadata": {
    "kernelspec": {
      "display_name": "Python 3",
      "language": "python",
      "name": "python3"
    },
    "language_info": {
      "codemirror_mode": {
        "name": "ipython",
        "version": 3
      },
      "file_extension": ".py",
      "mimetype": "text/x-python",
      "name": "python",
      "nbconvert_exporter": "python",
      "pygments_lexer": "ipython3",
      "version": "3.10.10"
    },
    "colab": {
      "provenance": [],
      "name": "runModel_casaInternational_BART.ipynb"
    }
  },
  "nbformat": 4,
  "nbformat_minor": 5
}