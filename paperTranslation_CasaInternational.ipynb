{
  "cells": [
    {
      "cell_type": "code",
      "id": "kH0J7R6Ynpr8rU3pCd2EKj5W",
      "metadata": {
        "tags": [],
        "id": "kH0J7R6Ynpr8rU3pCd2EKj5W"
      },
      "source": [
        "import pandas as pd"
      ],
      "execution_count": null,
      "outputs": []
    },
    {
      "cell_type": "code",
      "source": [
        "df_JP = pd.read_excel(\"ryotaro_filled.xlsx\",sheet_name=1)"
      ],
      "metadata": {
        "id": "J1qafVvixr3S"
      },
      "id": "J1qafVvixr3S",
      "execution_count": null,
      "outputs": []
    },
    {
      "cell_type": "code",
      "source": [
        "# Removing the first row & getting rid of the ID-type column\n",
        "df_JP = df_JP.iloc[1:].reset_index(drop = True).drop('ryotaro', axis = 1)\n",
        "# Fixing column names\n",
        "df_JP.columns = ['abstract','contribution','category']"
      ],
      "metadata": {
        "id": "XGuxDTg7yhs9"
      },
      "id": "XGuxDTg7yhs9",
      "execution_count": null,
      "outputs": []
    },
    {
      "cell_type": "code",
      "source": [
        "df_JP.head()"
      ],
      "metadata": {
        "colab": {
          "base_uri": "https://localhost:8080/",
          "height": 449
        },
        "id": "tLqztt0lzADa",
        "executionInfo": {
          "status": "ok",
          "timestamp": 1731647743068,
          "user_tz": 360,
          "elapsed": 3,
          "user": {
            "displayName": "",
            "userId": ""
          }
        },
        "outputId": "51f117f7-9af8-4928-a239-bb2d73e9aa03"
      },
      "id": "tLqztt0lzADa",
      "execution_count": null,
      "outputs": [
        {
          "output_type": "execute_result",
          "data": {
            "text/plain": [
              "                                            abstract  \\\n",
              "0  集中治療室（ICU）で人工呼吸器を装着している心臓血管外科術後患者にタクティールケアを実施し...   \n",
              "1  症例は 55 歳女性．X−2 年から両肩と両股関節痛を認め，当院総合内科紹介で精査を行われた...   \n",
              "2  43 歳男性、心窩部痛，黄疸。X 年 3 月に肝酵素上昇を伴う腹痛のため近医を受診，胆 嚢炎...   \n",
              "3  骨髄増殖性疾患（MPN）において血小板数が増加し偽性高 K 血症となることは知られている．今...   \n",
              "4  有害物質であるフェノールを用いない迅速簡便なアンモニア態窒素測定法の確立を目指し，連続流れ分...   \n",
              "\n",
              "                                        contribution        category  \n",
              "0  本論文は、集中治療室（ICU）で人工呼吸器を装着している心臓血管外科術後患者にタクティールケ...      Analytical  \n",
              "1  本論文は、再発性多発性軟骨炎を持つ55歳女性が気管気管支軟化症を発症した事例を報告し、本疾患...      Case study  \n",
              "2  本論文は、43歳男性に対して内視鏡的乳頭部切除術（endoscopic papillecto...      Case study  \n",
              "3  本論文では、慢性骨髄性白血病（CML）患者において，血小板増多により偽性高 K 血症に加え，...      Case study  \n",
              "4  本論文では、従来法に代替可能で、かつ有害物質であるフェノールを用いない迅速簡便なアンモニア態...  Methodological  "
            ],
            "text/html": [
              "\n",
              "  <div id=\"df-d2b5d914-7a62-4763-b137-984bc53edb29\" class=\"colab-df-container\">\n",
              "    <div>\n",
              "<style scoped>\n",
              "    .dataframe tbody tr th:only-of-type {\n",
              "        vertical-align: middle;\n",
              "    }\n",
              "\n",
              "    .dataframe tbody tr th {\n",
              "        vertical-align: top;\n",
              "    }\n",
              "\n",
              "    .dataframe thead th {\n",
              "        text-align: right;\n",
              "    }\n",
              "</style>\n",
              "<table border=\"1\" class=\"dataframe\">\n",
              "  <thead>\n",
              "    <tr style=\"text-align: right;\">\n",
              "      <th></th>\n",
              "      <th>abstract</th>\n",
              "      <th>contribution</th>\n",
              "      <th>category</th>\n",
              "    </tr>\n",
              "  </thead>\n",
              "  <tbody>\n",
              "    <tr>\n",
              "      <th>0</th>\n",
              "      <td>集中治療室（ICU）で人工呼吸器を装着している心臓血管外科術後患者にタクティールケアを実施し...</td>\n",
              "      <td>本論文は、集中治療室（ICU）で人工呼吸器を装着している心臓血管外科術後患者にタクティールケ...</td>\n",
              "      <td>Analytical</td>\n",
              "    </tr>\n",
              "    <tr>\n",
              "      <th>1</th>\n",
              "      <td>症例は 55 歳女性．X−2 年から両肩と両股関節痛を認め，当院総合内科紹介で精査を行われた...</td>\n",
              "      <td>本論文は、再発性多発性軟骨炎を持つ55歳女性が気管気管支軟化症を発症した事例を報告し、本疾患...</td>\n",
              "      <td>Case study</td>\n",
              "    </tr>\n",
              "    <tr>\n",
              "      <th>2</th>\n",
              "      <td>43 歳男性、心窩部痛，黄疸。X 年 3 月に肝酵素上昇を伴う腹痛のため近医を受診，胆 嚢炎...</td>\n",
              "      <td>本論文は、43歳男性に対して内視鏡的乳頭部切除術（endoscopic papillecto...</td>\n",
              "      <td>Case study</td>\n",
              "    </tr>\n",
              "    <tr>\n",
              "      <th>3</th>\n",
              "      <td>骨髄増殖性疾患（MPN）において血小板数が増加し偽性高 K 血症となることは知られている．今...</td>\n",
              "      <td>本論文では、慢性骨髄性白血病（CML）患者において，血小板増多により偽性高 K 血症に加え，...</td>\n",
              "      <td>Case study</td>\n",
              "    </tr>\n",
              "    <tr>\n",
              "      <th>4</th>\n",
              "      <td>有害物質であるフェノールを用いない迅速簡便なアンモニア態窒素測定法の確立を目指し，連続流れ分...</td>\n",
              "      <td>本論文では、従来法に代替可能で、かつ有害物質であるフェノールを用いない迅速簡便なアンモニア態...</td>\n",
              "      <td>Methodological</td>\n",
              "    </tr>\n",
              "  </tbody>\n",
              "</table>\n",
              "</div>\n",
              "    <div class=\"colab-df-buttons\">\n",
              "\n",
              "  <div class=\"colab-df-container\">\n",
              "    <button class=\"colab-df-convert\" onclick=\"convertToInteractive('df-d2b5d914-7a62-4763-b137-984bc53edb29')\"\n",
              "            title=\"Convert this dataframe to an interactive table.\"\n",
              "            style=\"display:none;\">\n",
              "\n",
              "  <svg xmlns=\"http://www.w3.org/2000/svg\" height=\"24px\" viewBox=\"0 -960 960 960\">\n",
              "    <path d=\"M120-120v-720h720v720H120Zm60-500h600v-160H180v160Zm220 220h160v-160H400v160Zm0 220h160v-160H400v160ZM180-400h160v-160H180v160Zm440 0h160v-160H620v160ZM180-180h160v-160H180v160Zm440 0h160v-160H620v160Z\"/>\n",
              "  </svg>\n",
              "    </button>\n",
              "\n",
              "  <style>\n",
              "    .colab-df-container {\n",
              "      display:flex;\n",
              "      gap: 12px;\n",
              "    }\n",
              "\n",
              "    .colab-df-convert {\n",
              "      background-color: #E8F0FE;\n",
              "      border: none;\n",
              "      border-radius: 50%;\n",
              "      cursor: pointer;\n",
              "      display: none;\n",
              "      fill: #1967D2;\n",
              "      height: 32px;\n",
              "      padding: 0 0 0 0;\n",
              "      width: 32px;\n",
              "    }\n",
              "\n",
              "    .colab-df-convert:hover {\n",
              "      background-color: #E2EBFA;\n",
              "      box-shadow: 0px 1px 2px rgba(60, 64, 67, 0.3), 0px 1px 3px 1px rgba(60, 64, 67, 0.15);\n",
              "      fill: #174EA6;\n",
              "    }\n",
              "\n",
              "    .colab-df-buttons div {\n",
              "      margin-bottom: 4px;\n",
              "    }\n",
              "\n",
              "    [theme=dark] .colab-df-convert {\n",
              "      background-color: #3B4455;\n",
              "      fill: #D2E3FC;\n",
              "    }\n",
              "\n",
              "    [theme=dark] .colab-df-convert:hover {\n",
              "      background-color: #434B5C;\n",
              "      box-shadow: 0px 1px 3px 1px rgba(0, 0, 0, 0.15);\n",
              "      filter: drop-shadow(0px 1px 2px rgba(0, 0, 0, 0.3));\n",
              "      fill: #FFFFFF;\n",
              "    }\n",
              "  </style>\n",
              "\n",
              "    <script>\n",
              "      const buttonEl =\n",
              "        document.querySelector('#df-d2b5d914-7a62-4763-b137-984bc53edb29 button.colab-df-convert');\n",
              "      buttonEl.style.display =\n",
              "        google.colab.kernel.accessAllowed ? 'block' : 'none';\n",
              "\n",
              "      async function convertToInteractive(key) {\n",
              "        const element = document.querySelector('#df-d2b5d914-7a62-4763-b137-984bc53edb29');\n",
              "        const dataTable =\n",
              "          await google.colab.kernel.invokeFunction('convertToInteractive',\n",
              "                                                    [key], {});\n",
              "        if (!dataTable) return;\n",
              "\n",
              "        const docLinkHtml = 'Like what you see? Visit the ' +\n",
              "          '<a target=\"_blank\" href=https://colab.research.google.com/notebooks/data_table.ipynb>data table notebook</a>'\n",
              "          + ' to learn more about interactive tables.';\n",
              "        element.innerHTML = '';\n",
              "        dataTable['output_type'] = 'display_data';\n",
              "        await google.colab.output.renderOutput(dataTable, element);\n",
              "        const docLink = document.createElement('div');\n",
              "        docLink.innerHTML = docLinkHtml;\n",
              "        element.appendChild(docLink);\n",
              "      }\n",
              "    </script>\n",
              "  </div>\n",
              "\n",
              "\n",
              "<div id=\"df-d9a1dc5d-1e00-4a4b-8893-7f83e9ccfc67\">\n",
              "  <button class=\"colab-df-quickchart\" onclick=\"quickchart('df-d9a1dc5d-1e00-4a4b-8893-7f83e9ccfc67')\"\n",
              "            title=\"Suggest charts\"\n",
              "            style=\"display:none;\">\n",
              "\n",
              "<svg xmlns=\"http://www.w3.org/2000/svg\" height=\"24px\"viewBox=\"0 0 24 24\"\n",
              "     width=\"24px\">\n",
              "    <g>\n",
              "        <path d=\"M19 3H5c-1.1 0-2 .9-2 2v14c0 1.1.9 2 2 2h14c1.1 0 2-.9 2-2V5c0-1.1-.9-2-2-2zM9 17H7v-7h2v7zm4 0h-2V7h2v10zm4 0h-2v-4h2v4z\"/>\n",
              "    </g>\n",
              "</svg>\n",
              "  </button>\n",
              "\n",
              "<style>\n",
              "  .colab-df-quickchart {\n",
              "      --bg-color: #E8F0FE;\n",
              "      --fill-color: #1967D2;\n",
              "      --hover-bg-color: #E2EBFA;\n",
              "      --hover-fill-color: #174EA6;\n",
              "      --disabled-fill-color: #AAA;\n",
              "      --disabled-bg-color: #DDD;\n",
              "  }\n",
              "\n",
              "  [theme=dark] .colab-df-quickchart {\n",
              "      --bg-color: #3B4455;\n",
              "      --fill-color: #D2E3FC;\n",
              "      --hover-bg-color: #434B5C;\n",
              "      --hover-fill-color: #FFFFFF;\n",
              "      --disabled-bg-color: #3B4455;\n",
              "      --disabled-fill-color: #666;\n",
              "  }\n",
              "\n",
              "  .colab-df-quickchart {\n",
              "    background-color: var(--bg-color);\n",
              "    border: none;\n",
              "    border-radius: 50%;\n",
              "    cursor: pointer;\n",
              "    display: none;\n",
              "    fill: var(--fill-color);\n",
              "    height: 32px;\n",
              "    padding: 0;\n",
              "    width: 32px;\n",
              "  }\n",
              "\n",
              "  .colab-df-quickchart:hover {\n",
              "    background-color: var(--hover-bg-color);\n",
              "    box-shadow: 0 1px 2px rgba(60, 64, 67, 0.3), 0 1px 3px 1px rgba(60, 64, 67, 0.15);\n",
              "    fill: var(--button-hover-fill-color);\n",
              "  }\n",
              "\n",
              "  .colab-df-quickchart-complete:disabled,\n",
              "  .colab-df-quickchart-complete:disabled:hover {\n",
              "    background-color: var(--disabled-bg-color);\n",
              "    fill: var(--disabled-fill-color);\n",
              "    box-shadow: none;\n",
              "  }\n",
              "\n",
              "  .colab-df-spinner {\n",
              "    border: 2px solid var(--fill-color);\n",
              "    border-color: transparent;\n",
              "    border-bottom-color: var(--fill-color);\n",
              "    animation:\n",
              "      spin 1s steps(1) infinite;\n",
              "  }\n",
              "\n",
              "  @keyframes spin {\n",
              "    0% {\n",
              "      border-color: transparent;\n",
              "      border-bottom-color: var(--fill-color);\n",
              "      border-left-color: var(--fill-color);\n",
              "    }\n",
              "    20% {\n",
              "      border-color: transparent;\n",
              "      border-left-color: var(--fill-color);\n",
              "      border-top-color: var(--fill-color);\n",
              "    }\n",
              "    30% {\n",
              "      border-color: transparent;\n",
              "      border-left-color: var(--fill-color);\n",
              "      border-top-color: var(--fill-color);\n",
              "      border-right-color: var(--fill-color);\n",
              "    }\n",
              "    40% {\n",
              "      border-color: transparent;\n",
              "      border-right-color: var(--fill-color);\n",
              "      border-top-color: var(--fill-color);\n",
              "    }\n",
              "    60% {\n",
              "      border-color: transparent;\n",
              "      border-right-color: var(--fill-color);\n",
              "    }\n",
              "    80% {\n",
              "      border-color: transparent;\n",
              "      border-right-color: var(--fill-color);\n",
              "      border-bottom-color: var(--fill-color);\n",
              "    }\n",
              "    90% {\n",
              "      border-color: transparent;\n",
              "      border-bottom-color: var(--fill-color);\n",
              "    }\n",
              "  }\n",
              "</style>\n",
              "\n",
              "  <script>\n",
              "    async function quickchart(key) {\n",
              "      const quickchartButtonEl =\n",
              "        document.querySelector('#' + key + ' button');\n",
              "      quickchartButtonEl.disabled = true;  // To prevent multiple clicks.\n",
              "      quickchartButtonEl.classList.add('colab-df-spinner');\n",
              "      try {\n",
              "        const charts = await google.colab.kernel.invokeFunction(\n",
              "            'suggestCharts', [key], {});\n",
              "      } catch (error) {\n",
              "        console.error('Error during call to suggestCharts:', error);\n",
              "      }\n",
              "      quickchartButtonEl.classList.remove('colab-df-spinner');\n",
              "      quickchartButtonEl.classList.add('colab-df-quickchart-complete');\n",
              "    }\n",
              "    (() => {\n",
              "      let quickchartButtonEl =\n",
              "        document.querySelector('#df-d9a1dc5d-1e00-4a4b-8893-7f83e9ccfc67 button');\n",
              "      quickchartButtonEl.style.display =\n",
              "        google.colab.kernel.accessAllowed ? 'block' : 'none';\n",
              "    })();\n",
              "  </script>\n",
              "</div>\n",
              "    </div>\n",
              "  </div>\n"
            ]
          },
          "metadata": {},
          "execution_count": 4
        }
      ]
    },
    {
      "cell_type": "code",
      "source": [
        "from transformers import AutoModelForSeq2SeqLM, AutoTokenizer\n",
        "import torch\n",
        "\n",
        "# Load SeamlessM4T model\n",
        "model_name = \"facebook/seamless-m4t-v2-large\"  # or a smaller model if available\n",
        "model = AutoModelForSeq2SeqLM.from_pretrained(model_name).to('cuda')\n",
        "tokenizer = AutoTokenizer.from_pretrained(model_name)\n"
      ],
      "metadata": {
        "colab": {
          "base_uri": "https://localhost:8080/",
          "height": 208,
          "referenced_widgets": [
            "4af9dec2febe4e39999506fcf2ef7518",
            "437b3535614e422c8e71dd78bd7fcef9",
            "2bbd6607c0ec44dc93a01acd797f4300",
            "0377a56acbf14806a22d556bad3f0c62",
            "64754635c3fb4d769f86d6bd863de4c0",
            "97683d03e285464a9dade893a8579dc0",
            "d83ca3709b7e4aca871a57d2c1572685",
            "97f1ff87d6644b21840253250bc61f75",
            "c66d7c09aff74a33bd892af3a04c9a80",
            "8d31ef37094d438098bc43c77e905fd6",
            "e0bb4e59650f493db0655dbf56d28043"
          ]
        },
        "id": "iXSuVo78zmjE",
        "executionInfo": {
          "status": "ok",
          "timestamp": 1731647783996,
          "user_tz": 360,
          "elapsed": 40929,
          "user": {
            "displayName": "",
            "userId": ""
          }
        },
        "outputId": "199dee34-fb7d-4cad-ba8d-42d0e9b54aae"
      },
      "id": "iXSuVo78zmjE",
      "execution_count": null,
      "outputs": [
        {
          "output_type": "stream",
          "name": "stderr",
          "text": [
            "/usr/local/lib/python3.10/dist-packages/huggingface_hub/utils/_token.py:89: UserWarning: \n",
            "The secret `HF_TOKEN` does not exist in your Colab secrets.\n",
            "To authenticate with the Hugging Face Hub, create a token in your settings tab (https://huggingface.co/settings/tokens), set it as secret in your Google Colab and restart your session.\n",
            "You will be able to reuse this secret in all of your notebooks.\n",
            "Please note that authentication is recommended but still optional to access public models or datasets.\n",
            "  warnings.warn(\n",
            "/usr/local/lib/python3.10/dist-packages/transformers/deepspeed.py:24: FutureWarning: transformers.deepspeed module is deprecated and will be removed in a future version. Please import deepspeed modules directly from transformers.integrations\n",
            "  warnings.warn(\n"
          ]
        },
        {
          "output_type": "display_data",
          "data": {
            "text/plain": [
              "Loading checkpoint shards:   0%|          | 0/2 [00:00<?, ?it/s]"
            ],
            "application/vnd.jupyter.widget-view+json": {
              "version_major": 2,
              "version_minor": 0,
              "model_id": "4af9dec2febe4e39999506fcf2ef7518"
            }
          },
          "metadata": {}
        }
      ]
    },
    {
      "cell_type": "code",
      "source": [
        "from tqdm import tqdm\n",
        "import re\n",
        "\n",
        "def translator(rawText,src_lang,tgt_lang):\n",
        "    #Construct tokenized input with source language.\n",
        "    #Split with period. Use lookbehind to make sure not to split by decimal period (like 10.1)\n",
        "    sentences = re.split(r'(?<=[^0-9])\\.', rawText)\n",
        "    print(len(sentences))\n",
        "\n",
        "    translatedSentences =\"\"\n",
        "    for sentence in sentences:\n",
        "      #Skip if it is an empty sentence\n",
        "      if sentence == \"\" or sentence == \" \":\n",
        "        continue\n",
        "      print(sentence)\n",
        "\n",
        "      #Push tokenized input to GPU\n",
        "      input = tokenizer(\n",
        "          sentence, return_tensors=\"pt\",src_lang=src_lang\n",
        "      ).to('cuda')\n",
        "\n",
        "      #Translate to target language\n",
        "      with torch.no_grad():\n",
        "          output = model.generate(**input, tgt_lang=tgt_lang)\n",
        "\n",
        "      #Decode to translated text\n",
        "      translatedSentence = tokenizer.decode(output[0], skip_special_tokens=True)\n",
        "      print(translatedSentence)\n",
        "\n",
        "      # Clear input and output tensors from memory\n",
        "      del input\n",
        "      del output\n",
        "      torch.cuda.empty_cache()\n",
        "\n",
        "      translatedSentences += \" \" + translatedSentence\n",
        "\n",
        "    #Return translated text\n",
        "    return translatedSentences\n",
        "\n",
        "def japaneseParser(text):\n",
        "  #There shouldn't be any whitespace in Japanese\n",
        "  #Existence of whitespace is confirmed to affect the quality of translation\n",
        "  text = text.replace(' ','')\n",
        "  #Japanese sentence might contain wider white space\n",
        "  text = text.replace('　','')\n",
        "  #Replace \"Japanese period\" with English period for sentence tokenization\n",
        "  text = text.replace('。','.')\n",
        "  #There happen to be Japanese version of English period...\n",
        "  text = text.replace('．','.')\n",
        "\n",
        "  #Return parsed text\n",
        "  return text\n",
        "\n",
        "def translateDataFrame(df, src_lang, tgt_lang):\n",
        "  abstracts = df['abstract']\n",
        "  contributions = df['contribution']\n",
        "\n",
        "  translatedAbstractList = []\n",
        "  translatedContributionList = []\n",
        "\n",
        "  for i in tqdm(range(len(df))):\n",
        "    abstract_raw = abstracts[i]\n",
        "    contribution_raw = contributions[i]\n",
        "\n",
        "    #Replace newline with white space if there's any.\n",
        "    abstract_raw.replace('\\n',' ')\n",
        "    contribution_raw.replace('\\n',' ')\n",
        "\n",
        "    #Japanese usually doesn't include empty space. Replace with \"\".\n",
        "    #Existence of empty space would decrease the accuracy of translation.\n",
        "    if src_lang == \"jpn\":\n",
        "      abstract_raw = japaneseParser(abstract_raw)\n",
        "      contribution_raw = japaneseParser(contribution_raw)\n",
        "      print(\"Japanese parsed\")\n",
        "\n",
        "    #Retrieve translated text for both abstract and contribution\n",
        "    abstract_translated = translator(abstract_raw,src_lang,tgt_lang)\n",
        "    contribution_translated = translator(contribution_raw,src_lang,tgt_lang)\n",
        "\n",
        "    #Append translatedn text to list\n",
        "    translatedAbstractList.append(abstract_translated)\n",
        "    translatedContributionList.append(contribution_translated)\n",
        "  #Construct DataFrame with translated abstracts and translated contributions\n",
        "  translatedDF = pd.DataFrame({'abstract_translated':translatedAbstractList,'contribution_translated':translatedContributionList})\n",
        "  #Append category series from original DataFrame\n",
        "  translatedDF['category'] = df['category']\n",
        "\n",
        "  return translatedDF\n"
      ],
      "metadata": {
        "id": "bH1s24Ve3QUr"
      },
      "id": "bH1s24Ve3QUr",
      "execution_count": null,
      "outputs": []
    },
    {
      "cell_type": "code",
      "source": [
        "df_JPtoEN = translateDataFrame(df_JP, \"jpn\", \"eng\")"
      ],
      "metadata": {
        "colab": {
          "base_uri": "https://localhost:8080/"
        },
        "id": "Zl6CZhYr03mP",
        "executionInfo": {
          "status": "ok",
          "timestamp": 1731647979493,
          "user_tz": 360,
          "elapsed": 195502,
          "user": {
            "displayName": "",
            "userId": ""
          }
        },
        "outputId": "16f5b5ec-a2bd-4b33-eb17-de7358b96423",
        "collapsed": true
      },
      "id": "Zl6CZhYr03mP",
      "execution_count": null,
      "outputs": [
        {
          "output_type": "stream",
          "name": "stderr",
          "text": [
            "\r  0%|          | 0/10 [00:00<?, ?it/s]"
          ]
        },
        {
          "output_type": "stream",
          "name": "stdout",
          "text": [
            "Japanese parsed\n",
            "7\n",
            "集中治療室（ICU）で人工呼吸器を装着している心臓血管外科術後患者にタクティールケアを実施し，安静時と比較してストレス緩和の効果を検証した\n",
            "Tactile care was administered to post-operative patients in the intensive care unit (ICU) wearing ventilators, and the effects of stress relief were tested compared to quiet time.\n",
            "ICUに入室した心臓血管外科術後の人工呼吸器装着者を対象とした\n",
            "It was aimed at people who had been admitted to the ICU with artificial respiratory devices after cardiovascular surgery.\n",
            "病室内で，同一対象者に，仰臥位での安静後，タクティールケアを実施，再び安静とし，その前後に主観的および客観的指標のデータを取得した\n",
            "In the ward, the same subject was given tactile care after being sedated in a reclining position, then sedated again, and subsequently obtained data on subjective and objective indicators.\n",
            "分析対象者は4名（全員男性，平均年齢64.3±10.9歳）で，タクティールケア中・後にバイタルサインの大きな変動はなかった\n",
            "The subjects were four men, with an average age of 64.3 years and 10.9 months, and there was no significant change in vital signs during or after tactile care.\n",
            "客観的指標である血中オキシトシンや血中コルチゾールでは共通した変化は見られなかったが，主観的指標である不安の指標State-TraitAnxietyInventory-FormJYZ（新版STAI）得点の低下，疼痛VisualAnalogueScale（VAS）の低下，リラクセーション効果（リラクセーション評価尺度短縮版）の増加を認めた\n",
            "The results of the study showed that the levels of cortisol and oxytocin in the blood were lower than the rest of the subjects, while the rest of the subjects had lower scores on the State-Treat-Anxiety-Inventory-Form-JZ (STAI) scales, lower scores on the Pain-Visual-Analogue Scale (VAS), and higher scores on the Relaxation Scale (RAS).\n",
            "考察：タクティールケアが，術後侵襲の傷害期において安全に行えること，主観的な疼痛，不安の軽減，リラクセーション効果がみられ，ストレス緩和につながることが示唆された\n",
            "The study found that tactile care can be safe during the post-operative injury period, relieves subjective pain, anxiety, and has a relaxing effect and leads to stress relief.\n",
            "3\n",
            "本論文は、集中治療室（ICU）で人工呼吸器を装着している心臓血管外科術後患者にタクティールケアを実施し，安静時と比較してストレス緩和の効果を検証した\n",
            "This paper examined the effects of tactile care on post-operative patients in the intensive care unit (ICU) wearing artificial respirators and tested the effects of stress relief compared to quiet time.\n",
            "タクティールケアが，術後侵襲の傷害期において安全に行えること，主観的な疼痛，不安の軽減，リラクセーション効果がみられ，ストレス緩和につながることが示唆された\n"
          ]
        },
        {
          "output_type": "stream",
          "name": "stderr",
          "text": [
            "\r 10%|█         | 1/10 [00:17<02:37, 17.53s/it]"
          ]
        },
        {
          "output_type": "stream",
          "name": "stdout",
          "text": [
            "Tactile care has been suggested to be safe during the post-operative invasive injury period, to reduce subjective pain, anxiety, to have a relaxing effect, and to lead to stress relief.\n",
            "Japanese parsed\n",
            "14\n",
            "症例は55歳女性\n",
            "The case is a 55-year-old woman.\n",
            "X−2年から両肩と両股関節痛を認め，当院総合内科紹介で精査を行われたが確定診断に至らず，対症療法で経過観察となった\n",
            "He was diagnosed with shoulder and hip joint pain from X-2 and underwent a comprehensive internal medicine examination at the hospital, but was not diagnosed and underwent a follow-up examination in anti-seizure therapy.\n",
            "X−1年からぶどう膜炎が認められて当院眼科で加療を受けた\n",
            "I've been diagnosed with vitiligo since I was a year old, and I've been treated at the eye hospital.\n",
            "X年6月に人間ドックの肺機能検査で混合性換気障害を指摘され，7月に当科を紹介受診した\n",
            "In June of the same year, he was diagnosed with mixed ventilatory failure in a human dock lung examination, and in July, he was introduced to the department.\n",
            "数日後に労作時呼吸困難が出現し予約外受診となり，気道狭窄音を聴取した\n",
            "A few days later, he had difficulty breathing during his labor, was admitted out of the ordinary, and heard a narrowing of the airways.\n",
            "胸部CT検査で気管軟骨の壁肥厚と呼気時の内腔狭窄増悪が認められた\n",
            "A chest CT scan revealed a thick wall of airway cartilage and increased narrowness of the airway.\n",
            "気管気管支軟化症による呼吸困難と診断し，精査加療目的で入院とした\n",
            "He was diagnosed with respiratory distress due to bronchopneumonia and was hospitalized for further examination and treatment.\n",
            "室内気で酸素化が保たれており，全身精査を先行した\n",
            "The oxygenation was maintained indoors, and a full-body examination was performed.\n",
            "呼吸機能検査で上気道狭窄パターンの混合性換気障害を認めた\n",
            "He admitted to mixed ventilation disorders with a narrowing of the upper airway in his respiratory test.\n",
            "鞍鼻が認められ，Damianiの診断基準の，非びらん性・血清陰性の炎症性多発性関節炎，鼻軟骨炎，ぶどう膜炎，気道軟骨炎の4項目が該当し，再発性多発軟骨炎と確定診断した\n",
            "The four items of Damiani's diagnostic criteria, non-infectious, seronegative inflammatory multiple arthritis, nasal cartilage, venous membrane inflammation, and airway cartilage, were found to be relevant and the diagnosis was confirmed as recurrent multiple cartilage inflammation.\n",
            "Prednisolone1mg/kg内服，吸入ステロイド／長時間作用性β2刺激薬吸入療法の併用加療を行い，症状や換気障害の改善を認めた\n",
            "The company has approved the combination of prednisolone (1 mg per kg), inhaled steroids, and long-acting beta-2 stimulants for combination therapy to improve symptoms and respiratory distress.\n",
            "Prednisoloneの漸減を行い，閉塞性換気障害は残存しているが悪化なく経過している\n",
            "The prednisone-based treatment has been shown to reduce the risk of constipation, but it has not worsened.\n",
            "本症例から，再発性多発性軟骨炎を鑑別に考慮し，鼻軟骨炎などの身体診察による本疾患の早期診断が重要と考え，文献的考察を踏まえて報告する\n",
            "The study is based on the findings of a study of recurrent multiple sclerosis (MS) and the importance of early diagnosis of the disease through physical examination, such as nasal sclerosis, and is reported based on the literature.\n",
            "2\n",
            "本論文は、再発性多発性軟骨炎を持つ55歳女性が気管気管支軟化症を発症した事例を報告し、本疾患の早期診断が重要と指摘している\n"
          ]
        },
        {
          "output_type": "stream",
          "name": "stderr",
          "text": [
            "\r 20%|██        | 2/10 [00:41<02:49, 21.17s/it]"
          ]
        },
        {
          "output_type": "stream",
          "name": "stdout",
          "text": [
            "This paper reports a case of a 55-year-old woman with recurrent multiple sclerosis who developed bronchial asthma, and points out the importance of early diagnosis of the disease.\n",
            "Japanese parsed\n",
            "23\n",
            "43歳男性、心窩部痛，黄疸\n",
            "It's a little bit of a stretch, but it's a little bit of a stretch.\n",
            "X年3月に肝酵素上昇を伴う腹痛のため近医を受診，胆嚢炎との診断にて胆嚢摘出術を施行された\n",
            "In March of the same year, he was admitted to a nearby doctor for abdominal pain accompanied by elevated liver enzymes, and a gallbladder removal surgery was performed to diagnose gallstones.\n",
            "その後症状軽快していたが，X年6月に心窩部痛，黄疸が出現，近医再受診した\n",
            "After that, the symptoms were mild, but in June of the year X, he developed chest pain, jaundice, and was re-admitted to the nearby hospital.\n",
            "血液検査では肝胆道系酵素やアミラーゼが上昇していた\n",
            "Blood tests showed elevated levels of hepatocellular enzymes and amylase.\n",
            "CTにて膵炎や閉塞性黄疸を伴う乳頭部腫瘤が確認され，当院紹介受診した\n",
            "A breast tumor with CT scans and a closed-loop jaundice was confirmed and was referred to the hospital.\n",
            "超音波内視鏡では，十二指腸主乳頭の粘膜下に8mm大の低エコー腫瘤が描出され，十二指腸筋層を越え膵や共通管への進展がうかがわれた\n",
            "In the ultrasound, an 8 mm low echo tumor was detected under the mucous membrane of the duodenum, and progression beyond the duodenum and into the common duct was confirmed.\n",
            "粘膜面の変化がないことから非露出型十二指腸乳頭部癌を疑った\n",
            "I suspected non-exposure duodenal breast cancer because of the lack of changes in the mucous membrane.\n",
            "膵炎改善後に乳頭部腫瘤に対し超音波内視鏡下針生検を施行したが，悪性所見は認めなかった\n",
            "After improving the inflammation, he performed an acupuncture under ultrasound for a breast tumor, but the malignancy was not recognized.\n",
            "その後も症状再燃ないが癌の否定のため，X年７月に再入院した\n",
            "He was hospitalized again in July of 'X' because of the denial of cancer, although the symptoms did not return.\n",
            "内視鏡的胆管造影では乳頭部腫瘤による胆管狭窄はなく，乳頭切開も行ったが腫瘤の露出もなかった\n",
            "In endoscopic gallbladder surgery, the gallbladder was not narrowed by a breast tumor, and the breast was cut, but the tumor was not exposed.\n",
            "切開部からの生検でも悪性所見は確認されなかった\n",
            "Even a biopsy of the incision did not confirm any malignancy.\n",
            "しかしながらX年8月のEUSでも依然として乳頭部腫瘤が存在し，乳頭部より再生検を行ったが今回も悪性細胞を認めなかった\n",
            "However, in August of the same year, EUS still had a breast tumor, and a breast reconstruction was performed, but no malignant cells were found.\n",
            "以上の経過より癌の可能性は完全に排除できないものの，良性疾患も考慮された\n",
            "Although the possibility of cancer cannot be completely ruled out, benign diseases were also taken into account.\n",
            "膵頭十二指腸切除術は高侵襲であり，十分な組織検体を得るため内視鏡的乳頭部切除術（endoscopicpapillectomy;EP）を施行した\n",
            "Endoscopic papillectomy (EP) was performed to obtain a sufficient tissue sample.\n",
            "摘出検体の病理より腺筋腫症過形成との診断に至った\n",
            "It led to a diagnosis of adenoma overgrowth rather than pathology of the sample.\n",
            "十二指腸乳頭部の粘膜下腫瘍に対しEPを行うことで腺筋腫症過形成（adenomyomatoushyperplasia;AMH）の診断に至った一例を経験した\n",
            "I've had one case where I've been diagnosed with adenomyomatous hyperplasia (AMH) by doing an EP on a submucosa tumor in the duodenum.\n",
            "AMHは平滑筋の増生と腺管過形成を特徴とする良性疾患である\n",
            "AMH is a benign disease characterized by an increase in smooth muscle and adenovenous proliferation.\n",
            "多くは胆嚢に出現し，本例のように下部胆管から十二指腸乳頭部に生じることは大変稀である\n",
            "Many of them appear in the gallbladder, and it's very rare for them to occur in the lower gallbladder, in the duodenum, in the breast, as in this case.\n",
            "乳頭部AMHは閉塞性黄疸や膵炎を契機に発見されるが，乳頭部癌との鑑別が困難にて膵頭部十二指腸切除術(PD)が施行されてしまうことが多い\n",
            "I'm going to put a little bit of salt in it, and I'm going to put a little bit of salt in it.\n",
            "本症例も当初癌を想定し各種内視鏡的モダリティを用いて何度も組織採取を試みたが診断に至らなかった\n",
            "This case was also initially thought to be cancer, and multiple attempts were made to remove tissue using various endoscopic modalities, but the diagnosis was not made.\n",
            "最終的に，病理診断に足りうる十分な検体を得るためEPを行い，AMHと診断できた\n",
            "In the end, we had to do an EP to get enough samples to make a pathological diagnosis.\n",
            "EPは，術後出血など合併症が少なくないが，十二指腸乳頭部AMHの診断において有用な処置であり，不要な手術の回避に貢献すると思われる\n",
            "Although it is not without its complications, it is a useful treatment in the diagnosis of postoperative hemorrhage, twelve-finger-gut-breast-AMH, and is thought to help avoid unnecessary surgery.\n",
            "2\n",
            "本論文は、43歳男性に対して内視鏡的乳頭部切除術（endoscopicpapillectomy;EP）を施行し、腺筋腫症過形成（adenomyomatoushyperplasia;AMH）の診断に至った事例を紹介している\n"
          ]
        },
        {
          "output_type": "stream",
          "name": "stderr",
          "text": [
            "\r 30%|███       | 3/10 [01:19<03:22, 28.92s/it]"
          ]
        },
        {
          "output_type": "stream",
          "name": "stdout",
          "text": [
            "This paper presents a case of a 43-year-old man who underwent endoscopic papillectomy (EP) and was diagnosed with adenomyomatous hyperplasia (AMH).\n",
            "Japanese parsed\n",
            "14\n",
            "骨髄増殖性疾患（MPN）において血小板数が増加し偽性高K血症となることは知られている\n",
            "In osteoporosis (MPN), the number of platelets increases, and hypoglycemia is known.\n",
            "今回，慢性骨髄性白血病（CML）患者において，血小板増多により偽性高K血症に加え，偽性高Ca血症および偽性高IP血症を呈した症例を経験したので報告する\n",
            "In the case of patients with chronic osteoporosis (CML), in addition to the increase in platelets, the patient also had a case of hypoglycemia, hypoglycemia and hypoglycemia.\n",
            "症例は，50代男性，白血球数21.2×10⁹/L，血小板数4,165×10⁹/L，血清Ca値12.5mg/dL，IP値4.7mg/dLおよびK値6.9mmol/Lであった\n",
            "The cases were men in their 50s, with a white blood cell count of 21.2 × 109 L, a platelet count of 4,165 × 109 L, a serum Ca value of 12.5 mg/dL, an IP value of 4.7 mg/dL and a K value of 6.9 mmol/L.\n",
            "染色体検査にてt(9;22)(q34;q11)，遺伝子検査にてBCR-ABL遺伝子が検出されCMLと診断された\n",
            "The BCR-ABL gene was detected in chromosome tests at t(9;22)(q34;q11), and the BCR-ABL gene was detected in genetic testing and diagnosed with CML.\n",
            "来院時検査におけるCa，IP，Kの血清と血漿との差（Δ）は，ΔCa:3.7mg/dL,ΔIP:1.2mg/dL,ΔK:3.0mmol/Lであり，いずれも血清が血漿に比べ高値を示した\n",
            "The difference between the Ca, IP, and K serums in the hospital test (Δ) was 3.7 mg Ca, 1.2 mg K, and 3.0 mmol L, and both serums showed higher values than the serums.\n",
            "この後，2週間，3週間，4週間における血小板数はそれぞれ3,419,1,847,713×10⁹/Lと斬減し，それに伴いΔCaは2.9,1.7,1.0mg/dL,ΔIPは0.6,0.5,0.3mg/dL,ΔKは2.1,1.6,0.7mmol/Lと減少した\n",
            "After this, the platelet counts at weeks 2, 3, and 4 decreased by 3,419, 1, 847, 713 × 109, L respectively, with ΔCa decreased by 2.9, 1.7, 1.0 mg/dL, ΔIP by 0.6, 0.5, 0.3 mg/dL, and ΔK by 2.1, 1.6, 0.7 mmol/L.\n",
            "本症例との比較のためMPN22症例（血小板数492–1,712×10⁹/L）におけるΔCa,ΔIP,ΔKを求めた\n",
            "For comparison with this case, I asked for ΔCa, ΔIP, ΔK in the MPN22 case (blood platelet count 492<unk>1,712×109<unk>L).\n",
            "その結果，ΔCaの平均±SDは0.1±0.3mg/dL,ΔIPは0.2±0.3mg/dL,ΔKは0.7±0.3mmol/Lであった\n",
            "As a result, the average ± SD of ΔCa was 0.1±0.3 mg/dL, the ΔIP was 0.2±0.3 mg/dL, and the ΔK was 0.7±0.3 mmolL.\n",
            "22例のうちΔ値が最も大きかった検体は，血小板数1,712×10⁹/Lであり，ΔCa0.6mg/dL,ΔIP0.8mg/dL,ΔK1.8mmol/Lであった\n",
            "The most common of the 22 samples had a platelet count of 1,712 × 109 L, a Ca of 0.6 mg/dL, an IP of 0.8 mg/dL, and a K of 1.8 mmol/L.\n",
            "本症例は，血小板数の斬減に伴い血清と血漿のCa,IP,K値の差も斬減した\n",
            "This case was accompanied by a decrease in platelet count, and the difference between the Ca, IP, and K values of the serum and the plasma was also reduced.\n",
            "この機序について考察すると，KとIPはそれぞれ細胞内の主な陽イオンと陰イオンであり，これが血液凝固によって放出されたものと推測される\n",
            "If we look at this sequence, K and IP are the main positive and negative ions in the cell, respectively, and it is assumed that they are released by blood clotting.\n",
            "Caは，血小板著増による血小板機能の活性化に伴って血小板内のdensetubularsystem，濃染顆粒等におけるCa貯留が増加し，これが凝固によって放出されたものと推測される\n",
            "Ca is thought to be released by the clotting of calcium deposits in the densitubular system, concentrated particles, etc. in the platelets, accompanied by the activation of platelet function by platelet enlargement.\n",
            "血小板著増例において，血清電解質はKだけでなく，CaやIP値も偽高値となり得ることに留意する必要がある\n",
            "In the case of significant platelet growth, it should be noted that not only is the serum electrolyte K, but the Ca and IP values can also be false highs.\n",
            "2\n",
            "本論文では、慢性骨髄性白血病（CML）患者において，血小板増多により偽性高K血症に加え，偽性高Ca血症および偽性高IP血症を呈した症例を紹介している\n"
          ]
        },
        {
          "output_type": "stream",
          "name": "stderr",
          "text": [
            "\r 40%|████      | 4/10 [01:49<02:56, 29.45s/it]"
          ]
        },
        {
          "output_type": "stream",
          "name": "stdout",
          "text": [
            "In this paper, we present cases of hypocritical hypokalemia and hypocritical hypokalemia and hypocritical hypokalemia with hypocritical hypokalemia due to increased platelet count in patients with chronic osteoporosis (CML).\n",
            "Japanese parsed\n",
            "7\n",
            "有害物質であるフェノールを用いない迅速簡便なアンモニア態窒素測定法の確立を目指し，連続流れ分析（CFA）による分析法を開発した\n",
            "The company has developed a rapid, simple, non-toxic, ammonia-based nitrogen measurement method using phenol, a harmful substance, and developed a continuous flow analysis (CFA) analysis method.\n",
            "試料中の金属イオン等による測定の妨害を防ぐため，エチレンジアミン四酢酸（EDTA）を添加した\n",
            "To prevent interference with measurements by metal ions in the sample, ethylene diamine tetrahydrate (EDTA) was added.\n",
            "そして，EDTAによる発色機構への妨害低減および夾雑物質の影響の防止のためPTFEメンブレンフィルターによる気液分離器を用いた\n",
            "And to reduce interference with the coloration mechanism by EDTA and prevent the effects of jamming, we used a PTFE membrane filter air-liquid separator.\n",
            "この気液分離器によって試料中のアンモニアのみをガス状で分離し，サリチル酸インドフェノール法で測定を行うことで，フェノールを使用せず，妨害物質の影響を受けにくい分析が可能となった\n",
            "The liquid separator separated only the ammonia in the sample in a gaseous form and measured it using the salicylic acid-indifenol method, making it possible to analyze it without the use of phenol and without the influence of interfering substances.\n",
            "本法とフェノールを使用する従来法を用いて海水，工場排水等の測定を行い，両者を比較すると同等の結果を得られることを確認した\n",
            "He used this method and the conventional method of using phenol to measure seawater, factory wastewater, etc., and found that comparing the two would yield the same result.\n",
            "また，測定法自体の評価および統計解析の結果，本法と従来法に大きな差はないことを確認した\n",
            "The results of the evaluation and statistical analysis of the measurement method itself also confirmed that there is no significant difference between this method and the conventional method.\n",
            "以上より，本法が従来法と同等の測定能を有し，従来法に代替可能であることが示唆された\n",
            "It has been suggested that this law has the same measurement power as the conventional law and can be substituted for the conventional law.\n",
            "2\n",
            "本論文では、従来法に代替可能で、かつ有害物質であるフェノールを用いない迅速簡便なアンモニア態窒素測定法を提唱している\n"
          ]
        },
        {
          "output_type": "stream",
          "name": "stderr",
          "text": [
            "\r 50%|█████     | 5/10 [02:04<02:00, 24.11s/it]"
          ]
        },
        {
          "output_type": "stream",
          "name": "stdout",
          "text": [
            "In this paper, we propose a rapid, simple ammonia nitrogen measurement method that does not use phenol, which is an alternative to conventional methods and is a harmful substance.\n",
            "Japanese parsed\n",
            "10\n",
            "副腎白質ジストロフィーはさまざまな臨床病型に分類される\n",
            "Parathyroid dystrophy is classified into various clinical types.\n",
            "その中で小脳・脳幹型は頻度がまれである上に症状や画像が脊髄小脳変性症と似ており，診断が難しい\n",
            "In this case, the cerebellum-brain stem type is rare, and the symptoms and images are similar to spinal cerebellar degeneration, making it difficult to diagnose.\n",
            "我々は脊髄小脳変性症として経過観察を行い，最終的に小脳・脳幹型の副腎白質ジストロフィーと診断した症例を報告する\n",
            "We're going to do a post-mortem examination as a spinal cord injury, and we're going to report a case that was ultimately diagnosed with cerebrospinal-brain-brain-brain-brain-brain-brain-brain-brain-brain-brain-brain-brain-brain-brain-brain-brain-brain.\n",
            "彼は成人後精神症状が出現して精神科かかりつけとなり，その後歩行障害が出現したために当院の脳神経内科を受診した\n",
            "He developed post-adult psychiatric symptoms that led to a psychiatric evaluation, and then he was admitted to the hospital's neurosurgery department for a walking disorder.\n",
            "初回のMRIでは小脳と橋の萎縮や，中大脳脚や脳梁，視床下後方，中脳外側など様々な部位にT2強調像で異常信号を認めた\n",
            "The first MRI showed abnormal signals in various parts of the brain, such as the cerebellum and the bridge, the medial cerebellum, the cerebral artery, the lower back of the visual cortex, and the outer part of the brain.\n",
            "SCDとして経過観察中に，症状やMRI所見の増悪が出現したために再度精査を行い，副腎白質ジストロフィーと診断した\n",
            "During the post-mortem examination as an SCD, he was re-examined for worsening symptoms and MRI scans, and was diagnosed with subarachnoid dystrophy.\n",
            "視床や中脳の異常信号はそれぞれ内側膝状体や下丘腕に相当すると考える\n",
            "I think the abnormal signals from the visual cortex and the midbrain are equivalent to the inner knee and the lower arm, respectively.\n",
            "それらは聴覚路を構成しており，副腎白質ジストロフィーの画像評価法であるLoesscoreの評価項目の一つである\n",
            "They constitute the auditory pathway and are one of the evaluation items of Loesscore, the image evaluation method for subcutaneous white matter dystrophy.\n",
            "両側聴覚路の異常信号を認識することがX-ALDの正確な診断の助けになる可能性がある\n",
            "Recognizing abnormal signals in both auditory pathways may help accurately diagnose X-ALD.\n",
            "2\n",
            "本論文では、脊髄小脳変性症として経過観察を行い，最終的に両側聴覚路の異常信号を認識することで小脳・脳幹型の副腎白質ジストロフィーと診断した症例が報告されている\n"
          ]
        },
        {
          "output_type": "stream",
          "name": "stderr",
          "text": [
            "\r 60%|██████    | 6/10 [02:24<01:30, 22.74s/it]"
          ]
        },
        {
          "output_type": "stream",
          "name": "stdout",
          "text": [
            "In this paper, we have reported cases diagnosed with cerebrospinal cerebellar dystrophy, a sub-leukemia of the cerebellum and cerebellum, by conducting a passive observation as a sub-spinal cerebellar dystrophy and ultimately recognizing abnormal signals in both auditory pathways.\n",
            "Japanese parsed\n",
            "7\n",
            "指節骨骨折は整形外科診療のなかでしばしば遭遇する外傷であるが,その治療原則を遵守すれば問題を起こすことは少ない\n",
            "A fractured thumb is a common injury in orthopedic surgery, but it's less of a problem if you follow its treatment principles.\n",
            "しかしいまだに安易な副子固定や,不十分な外科治療,術後管理により変形治癒したり,術後のリハビリ指導がなされず,屈筋腱の癒着が生じたりする症例に遭遇する\n",
            "But there are still cases of easy appendage fixation, inadequate surgical treatment, post-operative management, post-operative rehabilitation, and the emergence of tendonitis.\n",
            "特に後述する合併症が顕著となり,手全体の機能障害を招くこともある\n",
            "In particular, the latter complications are prominent and can lead to disability of the entire hand.\n",
            "本稿では基節骨骨折治療時理解すべきポイントと,合併症が発生した場合の救済手術法を述べる\n",
            "This article discusses the points to understand when treating a basal bone fracture and the surgical remedies for complications.\n",
            "「初期対応」初期治療では手術か保存療法かの選択は個々の症例により判断するべきである\n",
            "The choice of surgery or conservative therapy in early response and early treatment should be determined by individual cases.\n",
            "骨折型の診断はもちろんであるが,問診により,受傷機転,社会的背景すなわち年齢,保険の種類(健康保険,労働災害,自賠責など),基礎疾患や合併症,外傷の内容や,後療法の受け入れを含む治療内容への理解度を把握する\n",
            "The diagnosis of a fracture is, of course, based on the degree of understanding of the injury, the social background, i.e. age, type of insurance (health insurance, work-related disaster, self-induced injury, etc.), underlying diseases and complications, the content of the trauma, and the treatment content, including the acceptance of post-treatment.\n",
            "2\n",
            "本論文では、基節骨骨折治療時に理解すべきポイントと,合併症が発生した場合の救済手術法を述べている\n"
          ]
        },
        {
          "output_type": "stream",
          "name": "stderr",
          "text": [
            "\r 70%|███████   | 7/10 [02:36<00:57, 19.28s/it]"
          ]
        },
        {
          "output_type": "stream",
          "name": "stdout",
          "text": [
            "This paper describes the points to understand during treatment of a basal bone fracture and the surgical remedies for complications.\n",
            "Japanese parsed\n",
            "8\n",
            "スギ花粉大量飛散年(総数12353個/cm2,平年比約4倍)にスギとヒノキ花粉症への舌下免疫療法(SLIT)の効果を検討した\n",
            "I'm going to put a little bit of salt in it, and I'm going to put a little bit of salt in it, and I'm going to put a little bit of salt in it.\n",
            "シダキュア(R)治療のSLIT1年目84例,2年目107例,3年目67例を対象とした\n",
            "The first year of S.L.I.T. treatment, 84 cases, the second year, 107 cases, the third year, 67 cases.\n",
            "2023年スギ・ヒノキ期の鼻眼と全般症状をVisualanalogscale(VAS)で検討した\n",
            "In 2023, the nasal eye and general symptoms of the Sugi-Hinoki period were examined on the Visual Analysis Scale (VAS).\n",
            "スギ期症状は治療年数が増えると有意にVASが小さくなったが,ヒノキ期にはむしろやや大きかった(悪化)\n",
            "The symptoms of the early stages were significantly reduced with more years of treatment, but were much larger in the early stages.\n",
            "SLIT前でスギ期よりヒノキ期に自覚症状の強い例はわずか0.9-3.6%であったが,SLITにより治療3年目のVASでは,くしゃみ(p&lt;0.01),鼻水,眼痒みと全般症状(p&lt;0.05)でヒノキ期がスギ期より高かった\n",
            "Strong cases of consciousness symptoms in the nasal phase before SLIT were only 0.9-3.6% higher than in the nasal phase during the nasal phase, but in the VAS in the third year of treatment with SLIT, the nasal swelling, nasal swelling, and general symptoms were higher than in the nasal phase during the nasal phase.\n",
            "スギ期全般症状VASは花粉飛散数に影響されず,完治率はSLIT3年目で影響を受けた\n",
            "The overall symptoms of the early stages of VAS were not affected by the number of pollen spills, and the complete cure rate was affected by the third year of SLIT.\n",
            "大量飛散年でもスギSLITのスギ花粉症効果は高く,経年的に効果が増強したが,ヒノキ花粉症には経年的にVASによる症状の悪化があった\n",
            "Even in the years of large-scale flying, the effects of SGI SLIT on SGI pollen were high, and the effects increased with age, but there was a worsening of symptoms due to VAS in Hinoki pollen in the years of age.\n",
            "2\n",
            "本論文では、スギとヒノキ花粉症への舌下免疫療法(SLIT)の効果を検討し、大量飛散年でもスギSLITのスギ花粉症効果は高く,経年的に効果が増強したが,ヒノキ花粉症には経年的にVisualanalogscale(VAS)による症状の悪化があったと結論づけた\n"
          ]
        },
        {
          "output_type": "stream",
          "name": "stderr",
          "text": [
            "\r 80%|████████  | 8/10 [02:53<00:37, 18.62s/it]"
          ]
        },
        {
          "output_type": "stream",
          "name": "stdout",
          "text": [
            "In this paper, we examined the effects of sublingual immunotherapy (SLIT) on psoriasis and rhinitis, and concluded that the effects of SLIT on psoriasis were high even in years of mass dispersion, and the effects increased year by year, but rhinitis had worsening symptoms due to the visual analogy scale (VAS) year by year.\n",
            "Japanese parsed\n",
            "5\n",
            "メラノーマの治療を中心に飛躍的な進歩を遂げた2010年以降の薬物療法は,今なお治療成績の向上をめざした開発競争のなかにある\n",
            "The advances in drug therapy since 2010 have made a breakthrough in the treatment of melanoma, and it's still in the midst of a development race to improve treatment outcomes.\n",
            "殺細胞性抗癌剤の時代から分子標的治療や免疫療法へと移行しており,皮膚がんにおける分子標的治療としては,メラノーマのBRAF遺伝子変異例を対象としたBRAF阻害薬とMEK阻害薬の併用療法がよく知られている\n",
            "The transition from the era of cell-killing anticancer drugs to molecular targeted therapies and immunotherapies has led to the well-known combination of BRAF inhibitors and MEK inhibitors for melanoma BRAF gene mutations as a molecular targeted treatment for skin cancer.\n",
            "免疫療法においては,メラノーマやメルケル細胞癌,有棘細胞癌をはじめとした上皮系皮膚悪性腫瘍におけるPD-1,PD-L1の他,CTLA-4やLAG-3を標的にした新規治療法が登場している\n",
            "In immunotherapy, new treatments targeting CTLA-4 and LAG-3 have emerged, including PD-1, PD-L1 in epidermal skin malignancies such as melanoma, Merkel cell cancer, and thorny cell cancer.\n",
            "疾患名に準拠した薬物療法とエビデンスという観点以外に,個別化治療ともいわれることがあるがん遺伝子パネル検査結果に基づく薬物療法選択が同時にあり,今後がん遺伝子パネル検査が早期に実施されるようになることで,治療大系は大きく変化することになる\n",
            "The new drug, which is based on a combination of the drug's name and its evidence, and the results of a genetic panel, is expected to be the first step in a major change in the treatment system.\n",
            "2\n",
            "本論文では、メラノーマに対する新規薬物治療法を紹介し、がん遺伝子パネル検査の早期実施による今後の治療体系の変化を論じている\n"
          ]
        },
        {
          "output_type": "stream",
          "name": "stderr",
          "text": [
            "\r 90%|█████████ | 9/10 [03:04<00:16, 16.06s/it]"
          ]
        },
        {
          "output_type": "stream",
          "name": "stdout",
          "text": [
            "This paper introduces new drug treatments for melanoma and discusses changes in the future treatment system through early implementation of cancer genetic panel testing.\n",
            "Japanese parsed\n",
            "6\n",
            "現在サイクリン依存性キナーゼ4/6(以下,CDK4/6)阻害薬の導入により治療成績は向上してきたが,CDK4/6阻害薬に起因すると考えられる死亡例を含む重篤な間質性肺疾患も相次いで報告されている\n",
            "Although the introduction of the current cyclin-dependent kinase 4-4-6 (CDK6) inhibitor has improved treatment outcomes, severe interstitial lung disease, including deaths thought to be caused by CDK-4-6 inhibitors, has also been reported.\n",
            "症例は78歳女性,6年前から乳がんに対する治療を受けていたが右鎖骨上窩リンパ節に再発し,放射線照射とフルベストラント+パルボシクリブを開始\n",
            "The case is a 78-year-old woman who had been treated for breast cancer for six years, but had a relapse in the right clavicle lymph node and began radiation therapy with full-busted and parvo-script.\n",
            "発熱・呼吸困難等で緊急受診し右肺に浸潤影～すりガラス影,左肺底部の浸潤影を認めた\n",
            "I'm going to put a little bit of salt in it, and I'm going to put a little bit of salt in it.\n",
            "2回目のステロイド・パルス療法により肺野陰影・呼吸困難の改善が得られた\n",
            "The second round of steroid pulse therapy resulted in an improvement in pulmonary shadow and breathing difficulties.\n",
            "肺は線維化し在宅酸素療法導入となったが日常生活は可能となっている\n",
            "The lungs are fibrous, and oxygen therapy has been introduced at home, but it's possible to live a normal life.\n",
            "2\n",
            "本論文では、サイクリン依存性キナーゼ4/6(CDK4/6)阻害薬を乳がん治療に用いたところ重篤な間質性肺疾患を発症した事例を紹介している\n"
          ]
        },
        {
          "output_type": "stream",
          "name": "stderr",
          "text": [
            "100%|██████████| 10/10 [03:15<00:00, 19.54s/it]"
          ]
        },
        {
          "output_type": "stream",
          "name": "stdout",
          "text": [
            "This paper presents cases of severe interstitial lung disease in which a cyclin-dependent kinase 4 6 (CDK 4 6) inhibitor was used to treat breast cancer.\n"
          ]
        },
        {
          "output_type": "stream",
          "name": "stderr",
          "text": [
            "\n"
          ]
        }
      ]
    },
    {
      "cell_type": "code",
      "source": [
        "df_JPtoEN.to_csv('papers_JPtoEN.csv')"
      ],
      "metadata": {
        "id": "xjXNBSRPPut2"
      },
      "id": "xjXNBSRPPut2",
      "execution_count": null,
      "outputs": []
    },
    {
      "cell_type": "code",
      "source": [
        "df_ES = pd.read_excel(\"jose.xlsx\",sheet_name=1)"
      ],
      "metadata": {
        "id": "GFoB-LyusuJO"
      },
      "id": "GFoB-LyusuJO",
      "execution_count": null,
      "outputs": []
    },
    {
      "cell_type": "code",
      "source": [
        "df_EStoEN = translateDataFrame(df_ES, \"spa\", \"eng\")"
      ],
      "metadata": {
        "colab": {
          "base_uri": "https://localhost:8080/"
        },
        "id": "N-fMyAqTYIDN",
        "executionInfo": {
          "status": "ok",
          "timestamp": 1731648113831,
          "user_tz": 360,
          "elapsed": 133676,
          "user": {
            "displayName": "",
            "userId": ""
          }
        },
        "outputId": "dc0778c4-5cdb-474a-eab2-f8da6d735034",
        "collapsed": true
      },
      "id": "N-fMyAqTYIDN",
      "execution_count": null,
      "outputs": [
        {
          "output_type": "stream",
          "name": "stderr",
          "text": [
            "\r  0%|          | 0/10 [00:00<?, ?it/s]"
          ]
        },
        {
          "output_type": "stream",
          "name": "stdout",
          "text": [
            "9\n",
            "Los incendios forman parte del ciclo de algunos ecosistemas, los cuales pueden ser causantes de la degradación de otros\n",
            "Fires are part of the cycle of some ecosystems, which can cause the degradation of others.\n",
            " Algunas de sus causas son principalmente antropogénicas, entre ellas las fogatas mal apagadas, actividades de agricultura y liberación de basura, que generan la pérdida de hábitats y contaminación aérea a gran escala\n",
            "Some of its causes are mainly anthropogenic, including poorly extinguished fires, agricultural activities and garbage disposal, which generate habitat loss and large-scale air pollution.\n",
            " El presente trabajo hace referencia a la aplicación de un algoritmo genético basado en una colonia de hormigas para generar, de forma teórica, las rutas de verificación para el monitoreo y la detección temprana de incendios forestales en el Estado de México mediante dispositivos aéreos no tripulados, debido a que es una de las entidades con mayor número de este tipo de incidencias en México\n",
            "The present work refers to the application of a genetic algorithm based on an ant colony to generate, theoretically, the verification routes for the monitoring and early detection of forest fires in the State of Mexico by means of unmanned aerial devices, as it is one of the entities with the highest number of such incidents in Mexico.\n",
            " Los datos que se emplearon en la propuesta se extrajeron de los registros que genera la Comisión Nacional Forestal (Conafor)\n",
            "The data used in the proposal were extracted from the records generated by the National Forestry Commission (Conafor).\n",
            " Durante el proceso de análisis se realizó el filtrado de los municipios en donde se han presentado afectaciones en al menos tres localidades geográficas distintas\n",
            "During the analysis process, the municipalities where effects have occurred were filtered in at least three different geographical locations.\n",
            " En el proceso de evaluación, el software desarrollado desplegó las rutas en las que se obtuvieron las distancias más cortas, reordenando las localidades extraídas\n",
            "In the evaluation process, the developed software deployed the routes in which the shortest distances were obtained, rearranging the extracted localities\n",
            " Finalmente, se despliega el mapa en el cual se ubican aquellas en donde se ha presentado un incendio forestal, así como la distancia aproximada del recorrido total de la ruta\n",
            "Finally, the map is displayed in which those where a forest fire has occurred are located, as well as the approximate distance of the total route of the route\n",
            " Los resultados presentaron 54 % de media de reducción en las nuevas rutas planificadas, en comparación con una ruta secuencial\n",
            "The results showed an average reduction of 54% in the new planned routes, compared to a sequential route\n",
            "2\n",
            "Este estudio propone un nuevo método para la detección temprana de incendios forestales en el Estado de México, utilizando algoritmos genéticos y drones para optimizar las rutas de monitoreo, lo cual contribuye significativamente a la prevención y control de estos eventos\n"
          ]
        },
        {
          "output_type": "stream",
          "name": "stderr",
          "text": [
            "\r 10%|█         | 1/10 [00:15<02:20, 15.61s/it]"
          ]
        },
        {
          "output_type": "stream",
          "name": "stdout",
          "text": [
            "This study proposes a new method for the early detection of forest fires in the State of Mexico, using genetic algorithms and drones to optimize monitoring routes, which contributes significantly to the prevention and control of these events.\n",
            "9\n",
            "El programa computacional para la modelación de la falla por volcamiento en dos dimensiones (2D), llamado volteoLab, permite interpretar el modo de falla tipo volcamiento (toppling en inglés) de un conjunto de bloques de roca en un talud de carretera bajo el análisis de cargas de contacto y fuerzas gravitacionales en un marco de análisis\n",
            "The computational program for the modeling of the fault by overturning in two dimensions (2D), called volteoLab, allows to interpret the fault mode type overturning (toppling in English) of a set of rock blocks on a road slope under the analysis of contact loads and gravitational forces in an analysis framework\n",
            " VolteoLab ha sido realizado a partir del método de equilibrio límite\n",
            "VolteoLab has been carried out using the limit equilibrium method\n",
            " En este método se plantea el cálculo de fuerzas del peso de cada bloque de estudio y las fuerzas de fricción en la base de los mismos (i\n",
            "In this method, the calculation of the weight forces of each study block and the friction forces at the base of them is proposed (i.e.\n",
            "e\n",
            "and\n",
            " las fuerzas de resistencia mecánica al corte y la normal al plano de apoyo de los bloques)\n",
            "the forces of mechanical resistance to the cut and the normal to the supporting plane of the blocks)\n",
            " Por otra parte, se usa el concepto de coeficiente de transferencia (ψ) que relaciona las componentes de las fuerzas gravitacionales con la posición espacial de cada bloque con relación a un bloque guía de ubicación estratégica (denominado bloque de cresta y con un índice de ubicación en este texto denotada como m) cuyo significado físico divide al talud de análisis en dos zonas: la zona de corte y la zona de corona\n",
            "On the other hand, the concept of transfer coefficient (p) is used, which relates the components of gravitational forces to the spatial position of each block in relation to a guide block of strategic location (called a crest block and with a location index in this text denoted as m) whose physical meaning divides the slope of analysis into two zones: the cut zone and the crown zone.\n",
            " Con el coeficiente de transferencia y la ubicación del bloque de cresta es posible identificar las partes vulnerables del talud y en especial es posible tener un valor numérico de otra variable que definirá la estabilidad global del talud, que es una fuerza horizontal en la pata del mismo denominada aquí como fuerza de anclaje (P)\n",
            "With the transfer coefficient and the location of the crest block, it is possible to identify the vulnerable parts of the slope and, in particular, it is possible to have a numerical value of another variable that will define the overall stability of the slope, which is a horizontal force on the foot of the slope, called here as an anchoring force.\n",
            " Si esta fuerza es negativa, el talud es estable y si\n",
            "If this force is negative, the slope is stable and if\n",
            "4\n",
            "La fuerza de anclaje, calculada por VolteoLab, es un parámetro clave para evaluar la estabilidad global de un talud\n",
            "The anchorage force, calculated by VolteoLab, is a key parameter for assessing the overall stability of a slope\n",
            " Un valor negativo de esta fuerza indica que el talud es estable, mientras que un valor positivo sugiere un riesgo de falla por volcamiento\n",
            "A negative value of this force indicates that the slope is stable, while a positive value suggests a risk of overturning failure\n",
            " Este software constituye una herramienta valiosa para ingenieros geotécnicos en la evaluación y diseño de taludes\n"
          ]
        },
        {
          "output_type": "stream",
          "name": "stderr",
          "text": [
            "\r 20%|██        | 2/10 [00:34<02:21, 17.75s/it]"
          ]
        },
        {
          "output_type": "stream",
          "name": "stdout",
          "text": [
            "This software is a valuable tool for geotechnical engineers in the evaluation and design of slopes\n",
            "9\n",
            "El estudio trata sobre la identificación del desarrollo de habilidades visuales espaciales en tareas de representación de sólidos de revolución y de conversión entre registros para calcular su volumen, que realizan estudiantes de ingeniería\n",
            "The study deals with the identification of the development of spatial visual skills in tasks of representation of revolutionary solids and conversion between registers to calculate their volume, carried out by engineering students\n",
            " Las habilidades que se estudian son organización y escaneo visual y, reconstrucción, generación y manipulación de la imagen\n",
            "The skills that are studied are visual organization and scanning and, reconstruction, generation and manipulation of the image.\n",
            " Se hizo un estudio mixto con un diseño de triangulación\n",
            "A mixed study was done with a triangulation design.\n",
            " Los sujetos fueron 33 estudiantes de segundo semestre cursando cálculo integral\n",
            "The subjects were 33 second semester students studying integral calculus.\n",
            " Se diseñaron tareas asistidas por GeoGebra con base en indicadores creados para cada habilidad\n",
            "Assisted tasks were designed by GeoGebra based on indicators created for each skill\n",
            " Los resultados indican una mejora significativa en las habilidades, con un repunte en la generación y manipulación de la imagen\n",
            "The results indicate a significant improvement in skills, with a rebound in image generation and manipulation.\n",
            " Dichas habilidades son de alto nivel pues requieren la visualización de configuraciones tridimensionales y la manipulación mental de estas imágenes\n",
            "These skills are high-level because they require the visualization of three-dimensional configurations and the mental manipulation of these images.\n",
            " Se identificó que el desarrollo de estas habilidades contribuye en la representación de sólidos de revolución, pero para el cálculo de su volumen es necesaria la conversión entre los registros verbal, gráfico, simbólico y algebraico, para visualizar y representar el sólido, determinar la expresión correcta del volumen y calcular la integral definida obtenida\n",
            "It was identified that the development of these skills contributes to the representation of revolutionary solids, but for the calculation of their volume it is necessary the conversion between the verbal, graphic, symbolic and algebraic registers, to visualize and represent the solid, determine the correct expression of the volume and calculate the defined integral obtained\n",
            "3\n",
            "Este estudio contribuye al campo de la educación en ingeniería al proporcionar evidencia empírica sobre la efectividad de actividades basadas en tecnología, como el uso de GeoGebra, para desarrollar habilidades visuales espaciales en estudiantes\n",
            "This study contributes to the field of engineering education by providing empirical evidence on the effectiveness of technology-based activities, such as the use of GeoGebra, to develop spatial visual skills in students.\n",
            " Los hallazgos sugieren la necesidad de integrar este tipo de actividades en los currículos de ingeniería para mejorar la comprensión de conceptos geométricos y el desempeño en tareas de cálculo\n"
          ]
        },
        {
          "output_type": "stream",
          "name": "stderr",
          "text": [
            "\r 30%|███       | 3/10 [00:50<01:57, 16.82s/it]"
          ]
        },
        {
          "output_type": "stream",
          "name": "stdout",
          "text": [
            "The findings suggest the need to integrate this type of activity into engineering curricula to improve understanding of geometric concepts and performance in calculation tasks.\n",
            "3\n",
            "En este artículo se presenta una descripción de los árboles de decisión para determinar si una habitación está ocupada o no\n",
            "This article presents a description of decision trees to determine whether a room is occupied or not\n",
            " En esta investigación se demuestra empíricamente que es posible determinar si una habitación está ocupada o no, usando las variables temperatura, humedad, luminosidad, nivel de CO2 y el radio de humedad, mediante la utilización de árboles de decisión con las librerías SKLEARN en el lenguaje Python\n",
            "This research demonstrates empirically that it is possible to determine whether a room is occupied or not, using the variables temperature, humidity, luminosity, CO2 level and humidity radius, by using decision trees with the SKLEARN libraries in the Python language.\n",
            "2\n",
            " Este artículo describe un experimento usando árboles de decisión con variables para determinar si una habitación está ocupada o no\n"
          ]
        },
        {
          "output_type": "stream",
          "name": "stderr",
          "text": [
            "\r 40%|████      | 4/10 [00:55<01:13, 12.22s/it]"
          ]
        },
        {
          "output_type": "stream",
          "name": "stdout",
          "text": [
            "This article describes an experiment using decision trees with variables to determine whether a room is occupied or not.\n",
            "5\n",
            "En el presente artículo se va a utilizar la técnica Desing Thinking para solucionar y evaluar el problema de la selección de métricas de calidad de un software, considerando algunas técnicas para la recopilación de las ideas que puedan dar soporte a la elaboración de una propuesta de solución al problema que en este caso es el aseguramiento de la calidad basadas en las métricas de evaluación definidas en los estándares actuales conocidos\n",
            "In this article, the Designing Thinking technique will be used to solve and evaluate the problem of selecting quality metrics for a software, considering some techniques for the compilation of ideas that can support the elaboration of a proposal for a solution to the problem, which in this case is quality assurance based on the evaluation metrics defined in the current known standards.\n",
            " Todo esto es posible gracias al apoyo de herramientas web que proporcionan plantillas para abarcar las fases del Design Thinking\n",
            "All this is possible thanks to the support of web tools that provide templates to cover the phases of Design Thinking\n",
            " También se hace el detalle de las fases empezando por la fase de Empatizar seguido de Definir, Idear, Prototipar, Testear y finalmente llegando a los resultados y las conclusiones encontradas luego de todo el proceso del Design Thinking\n",
            "It also details the phases starting with the phase of Empathizing followed by Defining, Ideating, Prototyping, Testing and finally reaching the results and conclusions found after the whole process of Design Thinking\n",
            " Se espera que los resultados ayuden a la construcción de software de calidad y sean utilizados en un proyecto real y en sus diferentes etapas haciendo que el software tenga éxito en el mercado\n",
            "It is hoped that the results will help in the construction of quality software and be used in a real project and in its different stages making the software successful in the market\n",
            "2\n",
            "Al combinar técnicas de Design Thinking con herramientas web, este estudio demuestra la importancia de la colaboración y la participación de múltiples actores en la definición de métricas de calidad de software, asegurando así que estas sean relevantes y efectivas\n"
          ]
        },
        {
          "output_type": "stream",
          "name": "stderr",
          "text": [
            "\r 50%|█████     | 5/10 [01:06<00:57, 11.51s/it]"
          ]
        },
        {
          "output_type": "stream",
          "name": "stdout",
          "text": [
            "By combining Design Thinking techniques with web tools, this study demonstrates the importance of collaboration and the participation of multiple actors in defining software quality metrics, thus ensuring that these are relevant and effective.\n",
            "8\n",
            "El recrearse con un juego de mesa como el ajedrez presenta muchos beneficios tales como el desarrollo cognitivo y emocional en los niños, hasta la prevención de la enfermedad del Alzheimer en el adulto mayor, sin embargo, estos beneficios no están al alcance de las personas con deficiencia motriz ni en circunstancias en las cuales dos personas ajenas no pueden estar muy cerca\n",
            "Playing a board game like chess has many benefits, such as cognitive and emotional development in children, and even the prevention of Alzheimer's disease in older adults, but these benefits are not available to people with motor impairment or in circumstances where two strangers cannot be very close.\n",
            " Debido a lo mencionado, se hace necesario el desarrollo de un dispositivo que aborde estas problemáticas\n",
            "As a result of the above, it is necessary to develop a device to address these problems.\n",
            " En este artículo se presenta el desarrollo de un prototipo alpha de un tablero de ajedrez cuyos trebejos son controlados por voz a través de una aplicación móvil y cuyo oponente se ubica remotamente\n",
            "This article presents the development of an alpha prototype of a chess board whose moves are controlled by voice through a mobile application and whose opponent is located remotely\n",
            " El diseño del prototipo consiste en una caja cuadrada de 38 cm x 38 cm x 7 cm donde en la parte superior se ubica el panel de tablero de ajedrez con los trebejos, internamente se localiza el manipulador cartesiano que desplaza los trebejos por todo el tablero y el sistema de control electrónico que está conformado por una serie de componentes de fácil reemplazo encargados de controlar y analizar los movimientos que realizan los trebejos en el tablero\n",
            "The prototype design consists of a square box of 38 cm x 38 cm x 7 cm where on the top is located the chessboard panel with the tricks, internally is located the Cartesian manipulator that moves the tricks throughout the board and the electronic control system that is formed by a series of easily replaceable components responsible for controlling and analyzing the movements made by the tricks on the board\n",
            " Además se cuenta con una aplicación móvil, la cual tendrá la función de convertir la voz del jugador en una señal digital y enviarla hacia el controlador del tablero de ajedrez; asimismo brinda la opción de jugar de manera remota con alguna otra persona que posea el mismo tablero\n",
            "It also has a mobile application, which will have the function of converting the player's voice into a digital signal and sending it to the chessboard controller; it also provides the option to play remotely with someone else who owns the same chessboard.\n",
            " Con el desarrollo del prototipo se establecieron los cimientos para posteriores mejoras\n",
            "With the development of the prototype, the foundations were laid for subsequent improvements.\n",
            " Se observó, por ejemplo, que puede incluirse otro modo de juego al agregar un sensor en el efector final del manipulador para que detecte si existe un trebejo en algún casillero\n",
            "It was observed, for example, that another game mode can be included by adding a sensor to the final effector of the manipulator to detect if there is a loophole in some locker.\n",
            "3\n",
            "Al hacer el ajedrez más accesible, este prototipo contribuye a promover el desarrollo cognitivo y social en personas con discapacidad y a fomentar la interacción social a distancia\n",
            "By making chess more accessible, this prototype contributes to promoting cognitive and social development in people with disabilities and to fostering social interaction at a distance\n",
            " Además, este dispositivo puede ser utilizado como una herramienta educativa para enseñar los principios del ajedrez y la programación\n"
          ]
        },
        {
          "output_type": "stream",
          "name": "stderr",
          "text": [
            "\r 60%|██████    | 6/10 [01:23<00:54, 13.52s/it]"
          ]
        },
        {
          "output_type": "stream",
          "name": "stdout",
          "text": [
            "In addition, this device can be used as an educational tool to teach the principles of chess and programming.\n",
            "11\n",
            "Trabajar con Redes Inalámbricas de Sensores (RIS) en zonas urbanas es una tarea complicada, se deben tomar en cuenta diversos factores debido a la naturaleza propia del entorno\n",
            "Working with wireless sensor networks (RIS) in urban areas is a complicated task, various factors must be taken into account due to the nature of the environment\n",
            " Es aquí en donde herramientas analíticas como los simuladores juegan un papel importante para el éxito de las redes\n",
            "This is where analytical tools such as simulators play an important role in the success of networks.\n",
            " El objetivo de este trabajo es contar con un entorno virtual 3D para el simulado de RIS que sea confiable, escalable, modular y robusto que permita dar certidumbre durante el diseño de redes\n",
            "The aim of this work is to have a 3D virtual environment for the simulation of RIS that is reliable, scalable, modular and robust that allows certainty during the design of networks.\n",
            " En este trabajo se presenta el desarrollo de un entorno 3D de la ciudad de Torreón, haciendo uso del simulador de eventos discretos OMNeT++, con herramientas de INET framework\n",
            "In this work, the development of a 3D environment of the city of Torreón is presented, using the discrete event simulator OMNeT++, with tools from INET framework.\n",
            " La cama de simulación 3D comprende una sección de 1 km2 de objetos físicos como edificaciones y vegetación, el mapa de la ciudad de Torreón y datos de elevación de la Misión Topográfica Shuttle Radar (SRTM, por sus siglas en ingles)\n",
            "The 3D simulation bed comprises a 1 km2 section of physical objects such as buildings and vegetation, the map of the city of Torreón and elevation data from the Topographic Shuttle Radar Mission (SRTM)\n",
            " Se presentan dos casos comparativos entre simulaciones y datos de RIS desplegadas en la ciudad, obteniendo la eficiencia de la red y el indicador de fuerza de la señal recibida (RSSI), a diferentes distancias entre nodos\n",
            "Two comparative cases are presented between simulations and RIS data deployed in the city, obtaining the network efficiency and the received signal strength indicator (RSSI), at different distances between nodes\n",
            " El primer caso de estudio corresponde al estándar IEEE 802.15.4 en distancias de 25, 50 y 100 m, y el segundo caso al modo propietario de Texas Instruments Legacy Long Range a 90, 135 y 200 m\n",
            "The first case study corresponds to the IEEE 802.15.4 standard at distances of 25, 50 and 100 m, and the second case to the proprietary mode of Texas Instruments Legacy Long Range at 90, 135 and 200 m.\n",
            " Los resultados muestran una coincidencia de 92 % y 95 % en promedio, respectivamente, en paquetes recibidos entre datos simulados y los recolectados con las RIS\n",
            "The results show an average match of 92% and 95% respectively in packets received between simulated data and those collected with the RIS\n",
            " En cuanto al RSSI se muestra un comportamiento acorde a lo esperado, debilitándose a mayores distancias\n",
            "As for the RSSI, it shows a behaviour in line with what was expected, weakening at greater distances.\n",
            " La cama de simulación 3D es una herramienta confiable para simular redes con diferentes niveles de complejidad y escala, facilita tener referencias visuales y permite entender el comportamiento de las RIS que se busquen diseñar, sirviendo de apoyo en los esfuerzos para el monitoreo de calidad de aire que existe en la región\n",
            "The 3D simulation bed is a reliable tool for simulating networks with different levels of complexity and scale, it facilitates having visual references and allows to understand the behavior of the RISs that are sought to design, serving as support in the efforts for air quality monitoring that exists in the region.\n",
            "3\n",
            "La plataforma de simulación propuesta ofrece una gran flexibilidad al permitir simular diferentes estándares de comunicación y escenarios urbanos\n",
            "The proposed simulation platform offers great flexibility by allowing the simulation of different communication standards and urban scenarios.\n",
            " Su capacidad para modelar grandes áreas y diferentes tipos de obstáculos la convierte en una herramienta útil para el diseño y evaluación de redes RIS a gran escala\n"
          ]
        },
        {
          "output_type": "stream",
          "name": "stderr",
          "text": [
            "\r 70%|███████   | 7/10 [01:44<00:48, 16.11s/it]"
          ]
        },
        {
          "output_type": "stream",
          "name": "stdout",
          "text": [
            "Its ability to model large areas and different types of obstacles makes it a useful tool for the design and evaluation of large-scale RIS networks.\n",
            "7\n",
            " La inteligencia artificial (IA) promete una transformación significativa del cuidado de la salud en todas las áreas médicas, lo que podría representar el «momento Gutenberg» para la medicina\n",
            "Artificial intelligence (AI) promises a significant transformation of health care in all medical areas, which could represent the \"Gutenberg moment\" for medicine\n",
            " El futuro de las especialidades médicas dependerá en gran medida de la interacción humana y la creatividad, obligando a los médicos a evolucionar y emplear la IA como una herramienta en la atención del enfermo\n",
            "The future of medical specialties will depend heavily on human interaction and creativity, forcing doctors to evolve and use AI as a tool in patient care.\n",
            " La IA ofrecerá a los pacientes seguridad, autonomía y posibilidad de atención médica oportuna en zonas de difícil acceso, y a los médicos les ayudará a disminuir la carga administrativa, el tiempo en pantallas y el agotamiento profesional\n",
            "AI will offer patients security, autonomy and the possibility of timely medical care in hard-to-reach areas, and will help doctors reduce administrative burden, screen time and professional burnout\n",
            " La IA permitirá también reducir la frecuencia de errores médicos y mejorar la precisión diagnóstica a través de la integración, el análisis y la interpretación de información por algoritmos y software\n",
            "AI will also reduce the frequency of medical errors and improve diagnostic accuracy through the integration, analysis and interpretation of information by algorithms and software\n",
            " La automatización de actividades repetitivas liberará tiempo al personal de salud y potencialmente mejorará la relación médico-paciente, regresando a la atención personalizada y la interacción con el enfermo, a través del acompañamiento, la comunicación, la empatía y la confianza durante la enfermedad, actividades que nunca serán reemplazadas por la IA\n",
            "The automation of repetitive activities will free up time for healthcare staff and potentially improve the doctor-patient relationship, returning to personalized care and interaction with the patient through accompaniment, communication, empathy and trust during illness, activities that will never be replaced by AI.\n",
            " Aún es necesario estandarizar la investigación en el área, que permita mejorar la calidad de la evidencia científica conociendo sus ventajas y riesgos, y acelerar su implementación en la práctica médica actual\n",
            "It is still necessary to standardise research in the area, which will improve the quality of scientific evidence knowing its advantages and risks, and accelerate its implementation in current medical practice.\n",
            "4\n",
            "La integración de la inteligencia artificial en la medicina representa un momento crucial en la historia de la atención médica\n",
            "The integration of artificial intelligence into medicine represents a crucial moment in the history of health care.\n",
            " Si bien la IA ofrece grandes promesas, también plantea desafíos importantes, como la necesidad de garantizar la calidad de los datos y la ética en el desarrollo y uso de algoritmos\n",
            "While AI offers great promise, it also poses important challenges, such as the need to ensure data quality and ethics in the development and use of algorithms.\n",
            " Es fundamental abordar estos desafíos para aprovechar al máximo el potencial de la IA y mejorar la salud de las personas\n"
          ]
        },
        {
          "output_type": "stream",
          "name": "stderr",
          "text": [
            "\r 80%|████████  | 8/10 [02:00<00:31, 15.85s/it]"
          ]
        },
        {
          "output_type": "stream",
          "name": "stdout",
          "text": [
            "Addressing these challenges is critical to maximizing the potential of AI and improving people's health\n",
            "3\n",
            "Tratamiento de datos para la calificación de vinos, este informe detalla el proceso seguido, en donde se utilizó el lenguaje de programación Phyton, para el análisis de los datos del dataset, se utilizó el servidor Google Colab para ejecutar los algoritmos en la nube ya que el equipo considero que la velocidad de análisis de datos en google colab es más rápido\n",
            "The data processing for the wine rating, this report details the process followed, where the Phyton programming language was used for the analysis of the dataset data, the Google Colab server was used to run the algorithms in the cloud since the team considers that the speed of data analysis in Google Colab is faster\n",
            " Las redes neuronales tienen capacidad de aprender y realizar tareas basadas en un entrenamiento inicial llamado aprendizaje adaptativo y además de que son tolerantes a los fallos\n",
            "Neural networks have the ability to learn and perform tasks based on an initial training called adaptive learning and in addition they are tolerant of failures.\n",
            "2\n",
            "Este estudio describe usando el Google Colab para ejecutar los algoritmos en la nube, que es más rápido que el equipo en persona, para calificación de vinos\n"
          ]
        },
        {
          "output_type": "stream",
          "name": "stderr",
          "text": [
            "\r 90%|█████████ | 9/10 [02:06<00:12, 12.75s/it]"
          ]
        },
        {
          "output_type": "stream",
          "name": "stdout",
          "text": [
            "This study describes using Google Colab to run the algorithms in the cloud, which is faster than the team in person, for wine rating.\n",
            "3\n",
            "La seguridad informática, es un área muy importante en cualquier sistema que tenga conexión a internet, debido a que existen sitios Web fraudulentos que pueden realizar acciones delictivas hacia una persona, organización u otra entidad\n",
            "Computer security is a very important area in any system that has an internet connection, because there are fraudulent websites that can carry out criminal actions against a person, organization or other entity\n",
            " Por lo cual es necesario poder detectar qué sitios web son fraudulentos antes de poder ingresar a ella, para ello se desarrolló una implementación mediante Árboles de Decisión con el lenguaje de Python para poder detectar y clasificarlos en Legítimos, Sospechosos y Fraudulentos por medio de 1353 casos que clasifican a los sitios webs\n",
            "Therefore, it is necessary to be able to detect which websites are fraudulent before being able to enter it, for this an implementation was developed using Decision Trees with the Python language to be able to detect and classify them in Legitimate, Suspicious and Fraudulent through 1353 cases that classify websites\n",
            "2\n",
            " En este artículo describe la importancia de la seguridad informática y como usan árboles de decisión para poder descifrar si un sitio de web es legítimo, sospechoso o fraudulento\n",
            "This article describes the importance of cybersecurity and how they use decision trees to be able to decipher whether a website is legitimate, suspicious or fraudulent\n",
            "\n",
            "\n"
          ]
        },
        {
          "output_type": "stream",
          "name": "stderr",
          "text": [
            "100%|██████████| 10/10 [02:13<00:00, 13.36s/it]"
          ]
        },
        {
          "output_type": "stream",
          "name": "stdout",
          "text": [
            "The Commission is also aware of the fact that the European Parliament has been calling for such a ban for a long time.\n"
          ]
        },
        {
          "output_type": "stream",
          "name": "stderr",
          "text": [
            "\n"
          ]
        }
      ]
    },
    {
      "cell_type": "code",
      "source": [
        "df_EStoEN.to_csv('papers_EStoEN.csv')"
      ],
      "metadata": {
        "id": "6kfqgBT0P1pt"
      },
      "id": "6kfqgBT0P1pt",
      "execution_count": null,
      "outputs": []
    }
  ],
  "metadata": {
    "kernelspec": {
      "display_name": "Python 3",
      "language": "python",
      "name": "python3"
    },
    "language_info": {
      "codemirror_mode": {
        "name": "ipython",
        "version": 3
      },
      "file_extension": ".py",
      "mimetype": "text/x-python",
      "name": "python",
      "nbconvert_exporter": "python",
      "pygments_lexer": "ipython3",
      "version": "3.10.10"
    },
    "colab": {
      "provenance": [],
      "name": "paperTranslation_casaInternational"
    },
    "widgets": {
      "application/vnd.jupyter.widget-state+json": {
        "4af9dec2febe4e39999506fcf2ef7518": {
          "model_module": "@jupyter-widgets/controls",
          "model_name": "HBoxModel",
          "model_module_version": "1.5.0",
          "state": {
            "_dom_classes": [],
            "_model_module": "@jupyter-widgets/controls",
            "_model_module_version": "1.5.0",
            "_model_name": "HBoxModel",
            "_view_count": null,
            "_view_module": "@jupyter-widgets/controls",
            "_view_module_version": "1.5.0",
            "_view_name": "HBoxView",
            "box_style": "",
            "children": [
              "IPY_MODEL_437b3535614e422c8e71dd78bd7fcef9",
              "IPY_MODEL_2bbd6607c0ec44dc93a01acd797f4300",
              "IPY_MODEL_0377a56acbf14806a22d556bad3f0c62"
            ],
            "layout": "IPY_MODEL_64754635c3fb4d769f86d6bd863de4c0"
          }
        },
        "437b3535614e422c8e71dd78bd7fcef9": {
          "model_module": "@jupyter-widgets/controls",
          "model_name": "HTMLModel",
          "model_module_version": "1.5.0",
          "state": {
            "_dom_classes": [],
            "_model_module": "@jupyter-widgets/controls",
            "_model_module_version": "1.5.0",
            "_model_name": "HTMLModel",
            "_view_count": null,
            "_view_module": "@jupyter-widgets/controls",
            "_view_module_version": "1.5.0",
            "_view_name": "HTMLView",
            "description": "",
            "description_tooltip": null,
            "layout": "IPY_MODEL_97683d03e285464a9dade893a8579dc0",
            "placeholder": "​",
            "style": "IPY_MODEL_d83ca3709b7e4aca871a57d2c1572685",
            "value": "Loading checkpoint shards: 100%"
          }
        },
        "2bbd6607c0ec44dc93a01acd797f4300": {
          "model_module": "@jupyter-widgets/controls",
          "model_name": "FloatProgressModel",
          "model_module_version": "1.5.0",
          "state": {
            "_dom_classes": [],
            "_model_module": "@jupyter-widgets/controls",
            "_model_module_version": "1.5.0",
            "_model_name": "FloatProgressModel",
            "_view_count": null,
            "_view_module": "@jupyter-widgets/controls",
            "_view_module_version": "1.5.0",
            "_view_name": "ProgressView",
            "bar_style": "success",
            "description": "",
            "description_tooltip": null,
            "layout": "IPY_MODEL_97f1ff87d6644b21840253250bc61f75",
            "max": 2,
            "min": 0,
            "orientation": "horizontal",
            "style": "IPY_MODEL_c66d7c09aff74a33bd892af3a04c9a80",
            "value": 2
          }
        },
        "0377a56acbf14806a22d556bad3f0c62": {
          "model_module": "@jupyter-widgets/controls",
          "model_name": "HTMLModel",
          "model_module_version": "1.5.0",
          "state": {
            "_dom_classes": [],
            "_model_module": "@jupyter-widgets/controls",
            "_model_module_version": "1.5.0",
            "_model_name": "HTMLModel",
            "_view_count": null,
            "_view_module": "@jupyter-widgets/controls",
            "_view_module_version": "1.5.0",
            "_view_name": "HTMLView",
            "description": "",
            "description_tooltip": null,
            "layout": "IPY_MODEL_8d31ef37094d438098bc43c77e905fd6",
            "placeholder": "​",
            "style": "IPY_MODEL_e0bb4e59650f493db0655dbf56d28043",
            "value": " 2/2 [00:01&lt;00:00,  1.05it/s]"
          }
        },
        "64754635c3fb4d769f86d6bd863de4c0": {
          "model_module": "@jupyter-widgets/base",
          "model_name": "LayoutModel",
          "model_module_version": "1.2.0",
          "state": {
            "_model_module": "@jupyter-widgets/base",
            "_model_module_version": "1.2.0",
            "_model_name": "LayoutModel",
            "_view_count": null,
            "_view_module": "@jupyter-widgets/base",
            "_view_module_version": "1.2.0",
            "_view_name": "LayoutView",
            "align_content": null,
            "align_items": null,
            "align_self": null,
            "border": null,
            "bottom": null,
            "display": null,
            "flex": null,
            "flex_flow": null,
            "grid_area": null,
            "grid_auto_columns": null,
            "grid_auto_flow": null,
            "grid_auto_rows": null,
            "grid_column": null,
            "grid_gap": null,
            "grid_row": null,
            "grid_template_areas": null,
            "grid_template_columns": null,
            "grid_template_rows": null,
            "height": null,
            "justify_content": null,
            "justify_items": null,
            "left": null,
            "margin": null,
            "max_height": null,
            "max_width": null,
            "min_height": null,
            "min_width": null,
            "object_fit": null,
            "object_position": null,
            "order": null,
            "overflow": null,
            "overflow_x": null,
            "overflow_y": null,
            "padding": null,
            "right": null,
            "top": null,
            "visibility": null,
            "width": null
          }
        },
        "97683d03e285464a9dade893a8579dc0": {
          "model_module": "@jupyter-widgets/base",
          "model_name": "LayoutModel",
          "model_module_version": "1.2.0",
          "state": {
            "_model_module": "@jupyter-widgets/base",
            "_model_module_version": "1.2.0",
            "_model_name": "LayoutModel",
            "_view_count": null,
            "_view_module": "@jupyter-widgets/base",
            "_view_module_version": "1.2.0",
            "_view_name": "LayoutView",
            "align_content": null,
            "align_items": null,
            "align_self": null,
            "border": null,
            "bottom": null,
            "display": null,
            "flex": null,
            "flex_flow": null,
            "grid_area": null,
            "grid_auto_columns": null,
            "grid_auto_flow": null,
            "grid_auto_rows": null,
            "grid_column": null,
            "grid_gap": null,
            "grid_row": null,
            "grid_template_areas": null,
            "grid_template_columns": null,
            "grid_template_rows": null,
            "height": null,
            "justify_content": null,
            "justify_items": null,
            "left": null,
            "margin": null,
            "max_height": null,
            "max_width": null,
            "min_height": null,
            "min_width": null,
            "object_fit": null,
            "object_position": null,
            "order": null,
            "overflow": null,
            "overflow_x": null,
            "overflow_y": null,
            "padding": null,
            "right": null,
            "top": null,
            "visibility": null,
            "width": null
          }
        },
        "d83ca3709b7e4aca871a57d2c1572685": {
          "model_module": "@jupyter-widgets/controls",
          "model_name": "DescriptionStyleModel",
          "model_module_version": "1.5.0",
          "state": {
            "_model_module": "@jupyter-widgets/controls",
            "_model_module_version": "1.5.0",
            "_model_name": "DescriptionStyleModel",
            "_view_count": null,
            "_view_module": "@jupyter-widgets/base",
            "_view_module_version": "1.2.0",
            "_view_name": "StyleView",
            "description_width": ""
          }
        },
        "97f1ff87d6644b21840253250bc61f75": {
          "model_module": "@jupyter-widgets/base",
          "model_name": "LayoutModel",
          "model_module_version": "1.2.0",
          "state": {
            "_model_module": "@jupyter-widgets/base",
            "_model_module_version": "1.2.0",
            "_model_name": "LayoutModel",
            "_view_count": null,
            "_view_module": "@jupyter-widgets/base",
            "_view_module_version": "1.2.0",
            "_view_name": "LayoutView",
            "align_content": null,
            "align_items": null,
            "align_self": null,
            "border": null,
            "bottom": null,
            "display": null,
            "flex": null,
            "flex_flow": null,
            "grid_area": null,
            "grid_auto_columns": null,
            "grid_auto_flow": null,
            "grid_auto_rows": null,
            "grid_column": null,
            "grid_gap": null,
            "grid_row": null,
            "grid_template_areas": null,
            "grid_template_columns": null,
            "grid_template_rows": null,
            "height": null,
            "justify_content": null,
            "justify_items": null,
            "left": null,
            "margin": null,
            "max_height": null,
            "max_width": null,
            "min_height": null,
            "min_width": null,
            "object_fit": null,
            "object_position": null,
            "order": null,
            "overflow": null,
            "overflow_x": null,
            "overflow_y": null,
            "padding": null,
            "right": null,
            "top": null,
            "visibility": null,
            "width": null
          }
        },
        "c66d7c09aff74a33bd892af3a04c9a80": {
          "model_module": "@jupyter-widgets/controls",
          "model_name": "ProgressStyleModel",
          "model_module_version": "1.5.0",
          "state": {
            "_model_module": "@jupyter-widgets/controls",
            "_model_module_version": "1.5.0",
            "_model_name": "ProgressStyleModel",
            "_view_count": null,
            "_view_module": "@jupyter-widgets/base",
            "_view_module_version": "1.2.0",
            "_view_name": "StyleView",
            "bar_color": null,
            "description_width": ""
          }
        },
        "8d31ef37094d438098bc43c77e905fd6": {
          "model_module": "@jupyter-widgets/base",
          "model_name": "LayoutModel",
          "model_module_version": "1.2.0",
          "state": {
            "_model_module": "@jupyter-widgets/base",
            "_model_module_version": "1.2.0",
            "_model_name": "LayoutModel",
            "_view_count": null,
            "_view_module": "@jupyter-widgets/base",
            "_view_module_version": "1.2.0",
            "_view_name": "LayoutView",
            "align_content": null,
            "align_items": null,
            "align_self": null,
            "border": null,
            "bottom": null,
            "display": null,
            "flex": null,
            "flex_flow": null,
            "grid_area": null,
            "grid_auto_columns": null,
            "grid_auto_flow": null,
            "grid_auto_rows": null,
            "grid_column": null,
            "grid_gap": null,
            "grid_row": null,
            "grid_template_areas": null,
            "grid_template_columns": null,
            "grid_template_rows": null,
            "height": null,
            "justify_content": null,
            "justify_items": null,
            "left": null,
            "margin": null,
            "max_height": null,
            "max_width": null,
            "min_height": null,
            "min_width": null,
            "object_fit": null,
            "object_position": null,
            "order": null,
            "overflow": null,
            "overflow_x": null,
            "overflow_y": null,
            "padding": null,
            "right": null,
            "top": null,
            "visibility": null,
            "width": null
          }
        },
        "e0bb4e59650f493db0655dbf56d28043": {
          "model_module": "@jupyter-widgets/controls",
          "model_name": "DescriptionStyleModel",
          "model_module_version": "1.5.0",
          "state": {
            "_model_module": "@jupyter-widgets/controls",
            "_model_module_version": "1.5.0",
            "_model_name": "DescriptionStyleModel",
            "_view_count": null,
            "_view_module": "@jupyter-widgets/base",
            "_view_module_version": "1.2.0",
            "_view_name": "StyleView",
            "description_width": ""
          }
        }
      }
    }
  },
  "nbformat": 4,
  "nbformat_minor": 5
}