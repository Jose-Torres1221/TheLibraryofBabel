{
  "cells": [
    {
      "cell_type": "markdown",
      "source": [
        "# Loading Everything\n",
        "We will be loading in our model and dataset"
      ],
      "metadata": {
        "id": "ZBcnQYgY5wBQ"
      },
      "id": "ZBcnQYgY5wBQ"
    },
    {
      "cell_type": "code",
      "id": "3rHzOiUdPo4ZFlH6mIdhFuAD",
      "metadata": {
        "tags": [],
        "id": "3rHzOiUdPo4ZFlH6mIdhFuAD"
      },
      "source": [
        "#Load model directly\n",
        "from transformers import AutoTokenizer, AutoModelForSeq2SeqLM\n",
        "\n",
        "tokenizer = AutoTokenizer.from_pretrained(\"facebook/bart-large-cnn\")\n",
        "model = AutoModelForSeq2SeqLM.from_pretrained(\"facebook/bart-large-cnn\")\n",
        "\n",
        "tokenizer.pad_token = \"[PAD]\"  # Set a unique padding token\n",
        "tokenizer.eos_token = \"[EOS]\"  # Set an end-of-sequence token"
      ],
      "execution_count": null,
      "outputs": []
    },
    {
      "cell_type": "code",
      "source": [
        "import pandas as pd\n",
        "df = pd.read_csv('csvFiles/combinedDF.csv')\n",
        "df.head()"
      ],
      "metadata": {
        "id": "_lrnuh-G5rHb"
      },
      "id": "_lrnuh-G5rHb",
      "execution_count": null,
      "outputs": []
    },
    {
      "cell_type": "markdown",
      "source": [
        "# Prepare Fine-tuning\n",
        "Now that we have our dataset loaded in, we can begin getting the data ready to be input into our"
      ],
      "metadata": {
        "id": "3uyW2Afn7dlT"
      },
      "id": "3uyW2Afn7dlT"
    },
    {
      "cell_type": "code",
      "source": [
        "!pip install datasets"
      ],
      "metadata": {
        "id": "hs-ADQt36NJo"
      },
      "id": "hs-ADQt36NJo",
      "execution_count": null,
      "outputs": []
    },
    {
      "cell_type": "code",
      "source": [
        "from datasets import Dataset\n",
        "\n",
        "X = df['abstract']\n",
        "y = df['contribution']\n",
        "\n",
        "def train_eval_split(X,y):\n",
        "  length = round(len(X)*0.8)\n",
        "  X_train = X[:length]\n",
        "  X_eval = X[length:]\n",
        "  y_train = y[:length]\n",
        "  y_eval = y[length:]\n",
        "\n",
        "  train_dict = {\"abstract\": X_train, \"contribution\": y_train}\n",
        "  eval_dict = {\"abstract\": X_eval, \"contribution\": y_eval}\n",
        "\n",
        "  train_dataset = Dataset.from_dict(train_dict)\n",
        "  eval_dataset = Dataset.from_dict(eval_dict)\n",
        "\n",
        "  return train_dataset, eval_dataset"
      ],
      "metadata": {
        "id": "Aqf2XRp86PK7"
      },
      "id": "Aqf2XRp86PK7",
      "execution_count": null,
      "outputs": []
    },
    {
      "cell_type": "code",
      "source": [
        "train_dataset, eval_dataset = train_eval_split(X,y)"
      ],
      "metadata": {
        "id": "uwnRP8l26SJG"
      },
      "id": "uwnRP8l26SJG",
      "execution_count": null,
      "outputs": []
    },
    {
      "cell_type": "code",
      "source": [
        "train_dataset[0]"
      ],
      "metadata": {
        "id": "WdIwXtWY6Tnd"
      },
      "id": "WdIwXtWY6Tnd",
      "execution_count": null,
      "outputs": []
    },
    {
      "cell_type": "code",
      "source": [
        "def tokenize_inputs(example):\n",
        "  start_prompt = \"Summarize the following research abstract. Focus on main contributions. \\n\\n\"\n",
        "  end_prompt = \"\\n\\n Summary: \"\n",
        "\n",
        "  prompt = [start_prompt + abstract + end_prompt for abstract in example['abstract']]\n",
        "  example['input_ids'] = tokenizer(prompt,\n",
        "                                   padding='max_length',\n",
        "                                   truncation=True,\n",
        "                                   max_length=512,\n",
        "                                   return_tensors='pt').input_ids\n",
        "\n",
        "  example['labels'] = tokenizer(example['contribution'],\n",
        "                                padding='max_length',\n",
        "                                truncation=True,\n",
        "                                max_length=512,\n",
        "                                return_tensors='pt').input_ids\n",
        "\n",
        "  return example\n",
        "\n",
        "tokenized_trainDataset = train_dataset.map(tokenize_inputs, batched=True)\n",
        "tokenized_trainDataset = tokenized_trainDataset.remove_columns(['abstract','contribution'])\n",
        "\n",
        "tokenized_evalDataset = eval_dataset.map(tokenize_inputs, batched=True)\n",
        "tokenized_evalDataset = tokenized_evalDataset.remove_columns(['abstract','contribution'])"
      ],
      "metadata": {
        "id": "6H43xKex7MjM"
      },
      "id": "6H43xKex7MjM",
      "execution_count": null,
      "outputs": []
    },
    {
      "cell_type": "markdown",
      "source": [
        "# Fine Tune the Model\n",
        "We will be fine-tuning the model using the custom datasets we created and attached with this project."
      ],
      "metadata": {
        "id": "HtVWzg417TOp"
      },
      "id": "HtVWzg417TOp"
    },
    {
      "cell_type": "code",
      "source": [
        "!pip install evaluate"
      ],
      "metadata": {
        "id": "gN9rpbJB7OlP"
      },
      "id": "gN9rpbJB7OlP",
      "execution_count": null,
      "outputs": []
    },
    {
      "cell_type": "code",
      "source": [
        "from transformers import Seq2SeqTrainer, Seq2SeqTrainingArguments\n",
        "import evaluate\n",
        "import nltk\n",
        "import torch\n",
        "import gc\n",
        "import numpy as np\n",
        "\n",
        "# Download required NLTK data\n",
        "nltk.download('punkt')\n",
        "\n",
        "# Load the BLEU metric from the evaluate library\n",
        "bleu_metric = evaluate.load(\"bleu\")\n",
        "\n",
        "def compute_bleu(eval_preds):\n",
        "    predictions, references = eval_preds\n",
        "\n",
        "    # Extract logits if predictions is a tuple\n",
        "    if isinstance(predictions, tuple):\n",
        "        predictions = predictions[0]\n",
        "\n",
        "    # Convert logits to token IDs if necessary\n",
        "    if isinstance(predictions, (np.ndarray, torch.Tensor)):\n",
        "        predictions = predictions.argmax(axis=-1)  # Get the token IDs with highest probabilities\n",
        "\n",
        "    # Ensure predictions and references are lists\n",
        "    predictions = predictions.tolist() if isinstance(predictions, (np.ndarray, torch.Tensor)) else predictions\n",
        "    references = references.tolist() if isinstance(references, (np.ndarray, torch.Tensor)) else references\n",
        "\n",
        "    # Decode predictions and references into text\n",
        "    decoded_preds = tokenizer.batch_decode(predictions, skip_special_tokens=True)\n",
        "    decoded_refs = tokenizer.batch_decode(references, skip_special_tokens=True)\n",
        "\n",
        "    # Prepare data for BLEU metric\n",
        "    bleu_preds = [pred.strip() for pred in decoded_preds]  # Predictions as a list of strings\n",
        "    bleu_refs = [[ref.strip()] for ref in decoded_refs]  # References as a list of lists of strings\n",
        "\n",
        "    # Compute BLEU score\n",
        "    bleu_result = bleu_metric.compute(predictions=bleu_preds, references=bleu_refs)\n",
        "    return {\"bleu\": bleu_result[\"bleu\"]}\n",
        "\n",
        "training_args = Seq2SeqTrainingArguments(\n",
        "    output_dir=\"./results\",          # Output directory\n",
        "    num_train_epochs=4,              # Total number of training epochs\n",
        "    per_device_train_batch_size=4,  # Batch size per device during training\n",
        "    save_steps=1000,\n",
        "    save_total_limit=2,              # Limit the total amount of saved checkpoints\n",
        "    logging_steps=5,                 # Print losses every 5 steps\n",
        "    learning_rate=1e-5,\n",
        "    bf16=True,# Enable mixed precision training\n",
        "    evaluation_strategy=\"epoch\",    # Evaluate at the end of each epoch\n",
        "    # predict_with_generate=True,      # Enable text generation for evaluation\n",
        "    )\n",
        "\n",
        "\n",
        "trainer = Seq2SeqTrainer(\n",
        "    model=model,                     # The model to be trained\n",
        "    args=training_args,              # Training arguments\n",
        "    train_dataset=tokenized_trainDataset,        # Training dataset\n",
        "    eval_dataset=tokenized_evalDataset,          # Evaluation dataset\n",
        "    tokenizer=tokenizer,\n",
        "    compute_metrics=compute_bleu,\n",
        "    )\n",
        "\n",
        "trainer.train()\n",
        "\n",
        "# Save the fine-tuned model and tokenizer\n",
        "model_path = \"./fine_tuned_BART_summarization\"\n",
        "model.save_pretrained(model_path)\n",
        "tokenizer.save_pretrained(model_path)\n",
        "print(\"Fine-tuned model saved\")\n",
        "\n",
        "# Clear memory\n",
        "del model\n",
        "del tokenizer\n",
        "del trainer\n",
        "torch.cuda.empty_cache()\n",
        "gc.collect()\n",
        "\n"
      ],
      "metadata": {
        "id": "oP8P0N4w7QR3"
      },
      "id": "oP8P0N4w7QR3",
      "execution_count": null,
      "outputs": []
    }
  ],
  "metadata": {
    "kernelspec": {
      "display_name": "Python 3",
      "language": "python",
      "name": "python3"
    },
    "language_info": {
      "codemirror_mode": {
        "name": "ipython",
        "version": 3
      },
      "file_extension": ".py",
      "mimetype": "text/x-python",
      "name": "python",
      "nbconvert_exporter": "python",
      "pygments_lexer": "ipython3",
      "version": "3.10.10"
    },
    "colab": {
      "provenance": [],
      "name": "LibraryOfBabel_CasaInternational"
    }
  },
  "nbformat": 4,
  "nbformat_minor": 5
}
